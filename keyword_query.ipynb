{
  "nbformat": 4,
  "nbformat_minor": 0,
  "metadata": {
    "colab": {
      "name": "keyword_query.ipynb",
      "provenance": [],
      "collapsed_sections": [],
      "authorship_tag": "ABX9TyNj9lwOuTCH8a/2dh6ti/ER",
      "include_colab_link": true
    },
    "kernelspec": {
      "name": "python3",
      "display_name": "Python 3"
    },
    "language_info": {
      "name": "python"
    }
  },
  "cells": [
    {
      "cell_type": "markdown",
      "metadata": {
        "id": "view-in-github",
        "colab_type": "text"
      },
      "source": [
        "<a href=\"https://colab.research.google.com/github/zhaocaiQ/Git-Tutorial/blob/master/keyword_query.ipynb\" target=\"_parent\"><img src=\"https://colab.research.google.com/assets/colab-badge.svg\" alt=\"Open In Colab\"/></a>"
      ]
    },
    {
      "cell_type": "markdown",
      "source": [
        "#데이터추출 쿼리"
      ],
      "metadata": {
        "id": "bmJVBTX3NMKq"
      }
    },
    {
      "cell_type": "markdown",
      "source": [
        "##pymysql설치"
      ],
      "metadata": {
        "id": "jUvxhnVyNQrS"
      }
    },
    {
      "cell_type": "code",
      "source": [
        "pip install pymysql"
      ],
      "metadata": {
        "colab": {
          "base_uri": "https://localhost:8080/"
        },
        "id": "IKY3qtGeMGFk",
        "outputId": "b031f447-8e2d-433d-c6c7-ce6b7462bb7b"
      },
      "execution_count": null,
      "outputs": [
        {
          "output_type": "stream",
          "name": "stdout",
          "text": [
            "Requirement already satisfied: pymysql in /usr/local/lib/python3.7/dist-packages (1.0.2)\n"
          ]
        }
      ]
    },
    {
      "cell_type": "code",
      "execution_count": null,
      "metadata": {
        "id": "x1IuMoAJMBdH"
      },
      "outputs": [],
      "source": [
        "import pymysql\n",
        "#데이터베이스 연동\n",
        "conn = pymysql.connect(host='tkt-db-ko.cnirlhwrm55r.ap-northeast-2.rds.amazonaws.com', port=3306, user='admin', password='tkt202202', db='topic_keywords_db', charset='utf8')\n",
        "cursor = conn.cursor()"
      ]
    },
    {
      "cell_type": "code",
      "source": [
        "from datetime import datetime\n",
        "date = datetime.today().strftime(\"%Y-%m-%d\")"
      ],
      "metadata": {
        "id": "yIEhUPf5ONc0"
      },
      "execution_count": null,
      "outputs": []
    },
    {
      "cell_type": "code",
      "source": [
        "print(date)"
      ],
      "metadata": {
        "colab": {
          "base_uri": "https://localhost:8080/"
        },
        "id": "84PDKUy9Uoqq",
        "outputId": "65a7ec15-4e2b-44c6-855b-c6a5f755d628"
      },
      "execution_count": null,
      "outputs": [
        {
          "output_type": "stream",
          "name": "stdout",
          "text": [
            "2022-02-27\n"
          ]
        }
      ]
    },
    {
      "cell_type": "markdown",
      "source": [
        "#daily_top25"
      ],
      "metadata": {
        "id": "XgqhcPuZNjHK"
      }
    },
    {
      "cell_type": "code",
      "source": [
        "cursor.execute(\"SELECT keyword, weight FROM keyword WHERE c_date = curdate() ORDER BY weight DESC LIMIT 25;\")\n",
        "result = cursor.fetchall()\n",
        "#오늘에 대한 정보 없을 시 어제날짜로 출력\n",
        "if len(result) == 0:\n",
        "  cursor.execute(\"SELECT keyword, weight FROM keyword WHERE c_date = date_add(curdate(), interval -1 day) ORDER BY weight DESC LIMIT 25;\")\n",
        "  result = cursor.fetchall()\n",
        "print(result)"
      ],
      "metadata": {
        "colab": {
          "base_uri": "https://localhost:8080/"
        },
        "id": "_t-JQS8sH2cE",
        "outputId": "8dc20f8d-64c0-4fc8-c257-20a16c3f8d0f"
      },
      "execution_count": null,
      "outputs": [
        {
          "output_type": "stream",
          "name": "stdout",
          "text": [
            "(('우크라', 35), ('러시아', 28), ('단일', 18), ('결렬', 14), ('윤석열', 14), ('협상', 14), ('키예프', 10), ('금융', 10), ('온화', 9), ('전쟁', 9), ('안철수', 9), ('대선', 8), ('일교차', 8), ('제재', 8), ('산불', 8), ('확진', 8), ('책임', 7), ('강원', 7), ('사태', 7), ('유럽', 7), ('국제', 7), ('지원', 7), ('휴일', 6), ('반전', 6), ('이재명', 6))\n"
          ]
        }
      ]
    },
    {
      "cell_type": "markdown",
      "source": [
        "##weekly_top25"
      ],
      "metadata": {
        "id": "CuWWxP7fNsby"
      }
    },
    {
      "cell_type": "code",
      "source": [
        "cursor.execute(\"SELECT keyword, CAST(SUM(weight) AS SIGNED) FROM keyword WHERE DATE(c_date) >= ADDDATE(curdate(), - WEEKDAY(curdate())) AND DATE(c_date) <= ADDDATE(curdate(), - WEEKDAY(curdate())+ 6) GROUP BY keyword ORDER BY SUM(weight) DESC LIMIT 25;\")\n",
        "result = cursor.fetchall()\n",
        "#이번주에 대한 정보가 없을시 지난주에 대한 정보 출력\n",
        "if len(result) == 0:\n",
        "  cursor.execute(\"SELECT keyword, CAST(SUM(weight) AS SIGNED) FROM keyword WHERE DATE(c_date) >= ADDDATE(date_add(curdate(), interval -1 day), - WEEKDAY(date_add(curdate(), interval -1 day))) AND DATE(c_date) <= ADDDATE(date_add(curdate(), interval -1 day), - WEEKDAY(date_add(curdate(), interval -1 day))+ 6) GROUP BY keyword ORDER BY SUM(weight) DESC LIMIT 25;\")\n",
        "  result = cursor.fetchall()\n",
        "print(result)"
      ],
      "metadata": {
        "colab": {
          "base_uri": "https://localhost:8080/"
        },
        "id": "DyjKoV9oMhLL",
        "outputId": "1bfd3033-41b4-4c69-ed5a-16073ade11d5"
      },
      "execution_count": null,
      "outputs": [
        {
          "output_type": "stream",
          "name": "stdout",
          "text": [
            "(('우크라', 63), ('러시아', 46), ('키예프', 34), ('윤석열', 23), ('단일', 22), ('강풍', 19), ('산불', 19), ('제재', 17), ('확진', 17), ('대선', 16), ('항전', 14), ('전쟁', 14), ('결렬', 14), ('협상', 14), ('러시아군', 12), ('최다', 12), ('이재명', 11), ('푸틴', 11), ('금융', 10), ('방역', 10), ('정치', 10), ('안철수', 9), ('사망자', 9), ('수도', 9), ('역대', 9))\n"
          ]
        }
      ]
    },
    {
      "cell_type": "markdown",
      "source": [
        "##monthly_top25"
      ],
      "metadata": {
        "id": "QO9wpG-MNvNS"
      }
    },
    {
      "cell_type": "code",
      "source": [
        "cursor.execute(\"SELECT keyword, CAST(SUM(weight) AS SIGNED) FROM keyword WHERE date_format(c_date, '%Y-%m') = date_format(curdate(), '%Y-%m') GROUP BY keyword ORDER BY SUM(weight) DESC LIMIT 25;\")\n",
        "result = cursor.fetchall()\n",
        "#이번달에 대한 정보가 없을시 지난달에 대한 정보 출력\n",
        "if len(result) == 0:\n",
        "  cursor.execute(\"SELECT keyword, CAST(SUM(weight) AS SIGNED) FROM keyword WHERE date_format(c_date, '%Y-%m') = date_format((curdate() - INTERVAL 1 MONTH), '%Y-%m') GROUP BY keyword ORDER BY SUM(weight) DESC LIMIT 25;\")\n",
        "  result = cursor.fetchall()\n",
        "print(result)"
      ],
      "metadata": {
        "colab": {
          "base_uri": "https://localhost:8080/"
        },
        "id": "rfQ_hfiAM0tj",
        "outputId": "542bf38e-0c00-4450-f59b-b8d8d26ab0d4"
      },
      "execution_count": null,
      "outputs": [
        {
          "output_type": "stream",
          "name": "stdout",
          "text": [
            "(('우크라', 63), ('러시아', 46), ('키예프', 34), ('윤석열', 23), ('단일', 22), ('강풍', 19), ('산불', 19), ('제재', 17), ('확진', 17), ('대선', 16), ('항전', 14), ('전쟁', 14), ('결렬', 14), ('협상', 14), ('러시아군', 12), ('최다', 12), ('이재명', 11), ('푸틴', 11), ('금융', 10), ('방역', 10), ('정치', 10), ('안철수', 9), ('사망자', 9), ('수도', 9), ('역대', 9))\n"
          ]
        }
      ]
    },
    {
      "cell_type": "markdown",
      "source": [
        "##daily_chart"
      ],
      "metadata": {
        "id": "wWBnfzXiN7Os"
      }
    },
    {
      "cell_type": "code",
      "source": [
        "#오늘 top1~25출력\n",
        "cursor.execute(\"SELECT keyword, weight FROM keyword WHERE c_date = curdate() ORDER BY weight DESC LIMIT 25;\")\n",
        "today = dict(cursor.fetchall())\n",
        "if len(today) != 0:\n",
        "  #전날 top1~25출력\n",
        "  cursor.execute(\"SELECT keyword, weight FROM keyword WHERE c_date = date_add(curdate(), interval -1 day) ORDER BY weight DESC LIMIT 25;\")\n",
        "  yesterday = dict(cursor.fetchall())\n",
        "else:\n",
        "  #오늘 정보가 없을 시 어제,그저께 정보로 데이터 출력\n",
        "  #어제 top1~25출력\n",
        "  cursor.execute(\"SELECT keyword, weight FROM keyword WHERE c_date = date_add(curdate(), interval -1 day) ORDER BY weight DESC LIMIT 25;\")\n",
        "  today = dict(cursor.fetchall()) \n",
        "  #그저께 top1~25출력\n",
        "  cursor.execute(\"SELECT keyword, weight FROM keyword WHERE c_date = date_add(curdate(), interval -2 day) ORDER BY weight DESC LIMIT 25;\")\n",
        "  yesterday = dict(cursor.fetchall())\n",
        "\n",
        "daily_chart = []\n",
        "for i in today.keys():\n",
        "    if i in yesterday.keys():\n",
        "      if today[i] > yesterday[i]:\n",
        "          daily_chart.append([i, today[i], \"up\"])\n",
        "      elif today[i] == yesterday[i]:\n",
        "          daily_chart.append([i, today[i], \"same\"])\n",
        "      else:\n",
        "          daily_chart.append([i, today[i], \"down\"])\n",
        "    else:\n",
        "      daily_chart.append([i, today[i], \"new\"])\n",
        "\n",
        "dic_data = {\n",
        "    'data': daily_chart\n",
        "}\n",
        "print(dic_data)"
      ],
      "metadata": {
        "colab": {
          "base_uri": "https://localhost:8080/"
        },
        "id": "Sw277WwmN7e7",
        "outputId": "8562b75d-f457-4358-8d0c-b27710d48b0b"
      },
      "execution_count": null,
      "outputs": [
        {
          "output_type": "stream",
          "name": "stdout",
          "text": [
            "{'data': [['우크라', 35, 'up'], ['러시아', 28, 'up'], ['단일', 18, 'new'], ['결렬', 14, 'new'], ['윤석열', 14, 'up'], ['협상', 14, 'new'], ['키예프', 10, 'down'], ['금융', 10, 'new'], ['온화', 9, 'new'], ['전쟁', 9, 'new'], ['안철수', 9, 'new'], ['대선', 8, 'same'], ['일교차', 8, 'new'], ['제재', 8, 'down'], ['산불', 8, 'down'], ['확진', 8, 'down'], ['책임', 7, 'new'], ['강원', 7, 'new'], ['사태', 7, 'new'], ['유럽', 7, 'new'], ['국제', 7, 'new'], ['지원', 7, 'new'], ['휴일', 6, 'new'], ['반전', 6, 'new'], ['이재명', 6, 'new']]}\n"
          ]
        }
      ]
    },
    {
      "cell_type": "markdown",
      "source": [
        "##weekly_chart"
      ],
      "metadata": {
        "id": "rNHQVbEKTVes"
      }
    },
    {
      "cell_type": "code",
      "source": [
        "cursor.execute(\"SELECT keyword FROM keyword WHERE DATE(c_date) >= ADDDATE(curdate(), - WEEKDAY(curdate())) AND DATE(c_date) <= ADDDATE(curdate(), - WEEKDAY(curdate())+ 6) GROUP BY keyword ORDER BY SUM(weight) DESC LIMIT 5;\")\n",
        "keywords = cursor.fetchall()\n",
        "weekly_chart = {}\n",
        "if len(keywords) != 0:\n",
        "  for i in range(5):\n",
        "      cursor.execute(f\"SELECT weight FROM keyword WHERE DATE(c_date) >= ADDDATE(curdate(), - WEEKDAY(curdate())) AND DATE(c_date) <= ADDDATE(curdate(), - WEEKDAY(curdate())+ 6) AND keyword = '{keywords[i][0]}' ORDER BY c_date;\")\n",
        "      daily_weight = list(cursor.fetchall())\n",
        "      weight = [0]*7\n",
        "      for n in range(len(daily_weight)):\n",
        "        weight[n] = daily_weight[0][0]\n",
        "      weekly_chart[keywords[i][0]] = weight\n",
        "else:\n",
        "  #이번주 데이터가 없을 시 지난주 데이터 추출\n",
        "  cursor.execute(\"SELECT keyword FROM keyword WHERE DATE(c_date) >= ADDDATE(date_add(curdate(), interval -1 day), - WEEKDAY(date_add(curdate(), interval -1 day))) AND DATE(c_date) <= ADDDATE(date_add(curdate(), interval -1 day), - WEEKDAY(date_add(curdate(), interval -1 day))+ 6) GROUP BY keyword ORDER BY SUM(weight) DESC LIMIT 5;\")\n",
        "  keywords = cursor.fetchall()\n",
        "  for i in range(5):\n",
        "      cursor.execute(f\"SELECT weight FROM keyword WHERE DATE(c_date) >= ADDDATE(date_add(curdate(), interval -1 day), - WEEKDAY(date_add(curdate(), interval -1 day))) AND DATE(c_date) <= ADDDATE(date_add(curdate(), interval -1 day), - WEEKDAY(date_add(curdate(), interval -1 day))+ 6) AND keyword = '{keywords[i][0]}' ORDER BY c_date;\")\n",
        "      daily_weight = list(cursor.fetchall())\n",
        "      weight = [0]*7\n",
        "      for n in range(len(daily_weight)):\n",
        "        weight[n] = daily_weight[0][0]\n",
        "      weekly_chart[keywords[i][0]] = weight\n",
        "dic_data = {\n",
        "    'data': weekly_chart\n",
        "}\n",
        "print(dic_data)"
      ],
      "metadata": {
        "colab": {
          "base_uri": "https://localhost:8080/"
        },
        "id": "OW4EcIebTVlP",
        "outputId": "1c81405e-bb3b-4921-bc07-f335699e25dc"
      },
      "execution_count": null,
      "outputs": [
        {
          "output_type": "stream",
          "name": "stdout",
          "text": [
            "{'data': {'우크라': [28, 28, 0, 0, 0, 0, 0], '러시아': [18, 18, 0, 0, 0, 0, 0], '키예프': [24, 24, 0, 0, 0, 0, 0], '윤석열': [9, 9, 0, 0, 0, 0, 0], '단일': [4, 4, 0, 0, 0, 0, 0]}}\n"
          ]
        }
      ]
    },
    {
      "cell_type": "markdown",
      "source": [
        "##monthly_chart"
      ],
      "metadata": {
        "id": "CFdw4bs5UWpE"
      }
    },
    {
      "cell_type": "code",
      "source": [
        "import calendar\n",
        "from datetime import datetime\n",
        "date = datetime.today().strftime(\"%Y%m%d\")\n",
        "last_day = calendar.monthrange(int(date[:4]), int(date[4:6]))[1]\n",
        "\n",
        "cursor.execute(\"SELECT keyword FROM keyword WHERE DATE(c_date) >= DATE_SUB(curdate(), INTERVAL (DAY(curdate())-1) DAY) AND DATE(c_date) <= LAST_DAY(NOW()) GROUP BY keyword ORDER BY SUM(weight) DESC LIMIT 5;\")\n",
        "keywords = cursor.fetchall()\n",
        "monthly_chart = {}\n",
        "if len(keywords) != 0:\n",
        "  for i in range(5):\n",
        "      cursor.execute(f\"SELECT weight FROM keyword WHERE DATE(c_date) >= DATE_SUB(curdate(), INTERVAL (DAY(curdate())-1) DAY) AND DATE(c_date) <= LAST_DAY(NOW()) AND keyword = '{keywords[i][0]}' ORDER BY c_date;\")\n",
        "      daily_weight = list(cursor.fetchall())\n",
        "      weight = [0] * last_day\n",
        "      for n in range(len(daily_weight)):\n",
        "        weight[n] = daily_weight[0][0]\n",
        "        monthly_chart[keywords[i][0]] = weight\n",
        "else:\n",
        "  cursor.execute(\"SELECT keyword FROM keyword WHERE date_format(c_date, '%Y-%m') = date_format((curdate() - INTERVAL 1 MONTH), '%Y-%m') GROUP BY keyword ORDER BY SUM(weight) DESC LIMIT 5;\")\n",
        "  keywords = cursor.fetchall()\n",
        "  for i in range(5):\n",
        "    cursor.execute(f\"SELECT weight FROM keyword WHERE date_format(c_date, '%Y-%m') = date_format((curdate() - INTERVAL 1 MONTH), '%Y-%m') AND keyword = '{keywords[i][0]}' ORDER BY c_date;\")\n",
        "    daily_weight = list(cursor.fetchall())\n",
        "    weight = [0] * last_day\n",
        "    for n in range(len(daily_weight)):\n",
        "      weight[n] = daily_weight[0][0]\n",
        "      monthly_chart[keywords[i][0]] = weight\n",
        "dic_data = {\n",
        "    'data': monthly_chart\n",
        "}\n",
        "print(dic_data)"
      ],
      "metadata": {
        "colab": {
          "base_uri": "https://localhost:8080/"
        },
        "id": "ZOcbxvsHUWyr",
        "outputId": "ce8acdb8-74dd-4b3a-b088-787fd8988423"
      },
      "execution_count": null,
      "outputs": [
        {
          "output_type": "stream",
          "name": "stdout",
          "text": [
            "{'data': {'우크라': [28, 28, 0, 0, 0, 0, 0, 0, 0, 0, 0, 0, 0, 0, 0, 0, 0, 0, 0, 0, 0, 0, 0, 0, 0, 0, 0, 0], '러시아': [18, 18, 0, 0, 0, 0, 0, 0, 0, 0, 0, 0, 0, 0, 0, 0, 0, 0, 0, 0, 0, 0, 0, 0, 0, 0, 0, 0], '키예프': [24, 24, 0, 0, 0, 0, 0, 0, 0, 0, 0, 0, 0, 0, 0, 0, 0, 0, 0, 0, 0, 0, 0, 0, 0, 0, 0, 0], '윤석열': [9, 9, 0, 0, 0, 0, 0, 0, 0, 0, 0, 0, 0, 0, 0, 0, 0, 0, 0, 0, 0, 0, 0, 0, 0, 0, 0, 0], '단일': [4, 4, 0, 0, 0, 0, 0, 0, 0, 0, 0, 0, 0, 0, 0, 0, 0, 0, 0, 0, 0, 0, 0, 0, 0, 0, 0, 0]}}\n"
          ]
        }
      ]
    },
    {
      "cell_type": "markdown",
      "source": [
        "##daily_twitter"
      ],
      "metadata": {
        "id": "Qa0OuJE5VXGT"
      }
    },
    {
      "cell_type": "code",
      "source": [
        "cursor.execute(\"SELECT keyword FROM keyword WHERE c_date = date(now()) ORDER BY weight DESC LIMIT 5;\")\n",
        "keywords = list(cursor.fetchall())\n",
        "if len(keywords) != 0:\n",
        "  cursor.execute(\"SELECT keyword_id, CAST(SUM(retweet) AS SIGNED), CAST(SUM(like_count) AS SIGNED), group_concat(DISTINCT(nullif(tags, 'empty'))) FROM twitter WHERE SUBSTR(keyword_id, 1, 8) = date(now()) GROUP BY keyword_id ORDER BY COUNT(keyword_id) DESC;\")\n",
        "  twitter = cursor.fetchall()\n",
        "else:\n",
        "  #오늘 정보 없을 시 어제 정보출력\n",
        "  cursor.execute(\"SELECT keyword FROM keyword WHERE c_date = date_add(curdate(), interval -1 day) ORDER BY weight DESC LIMIT 5;\")\n",
        "  keywords = list(cursor.fetchall())\n",
        "  cursor.execute(\"SELECT keyword_id, CAST(SUM(retweet) AS SIGNED), CAST(SUM(like_count) AS SIGNED), group_concat(DISTINCT(nullif(tags, 'empty'))) FROM twitter WHERE SUBSTR(keyword_id, 1, 8) = date_add(curdate(), interval -1 day) GROUP BY keyword_id ORDER BY COUNT(keyword_id) DESC;\")\n",
        "  twitter = cursor.fetchall()\n",
        "\n",
        "daily_twitter = {}\n",
        "no = 1\n",
        "while len(keywords) > 0:\n",
        "    word = keywords.pop(0)\n",
        "    for tweet in twitter:\n",
        "        if word[0] in tweet[0]:\n",
        "            daily_twitter[word[0]] = tweet[1:]\n",
        "    no += 1\n",
        "print(daily_twitter)"
      ],
      "metadata": {
        "colab": {
          "base_uri": "https://localhost:8080/"
        },
        "id": "KCGKcmAvVGQK",
        "outputId": "a67feaae-6dd8-4a8d-d201-4d4cbe04cff8"
      },
      "execution_count": null,
      "outputs": [
        {
          "output_type": "stream",
          "name": "stdout",
          "text": [
            "{'우크라': (43530, 43, 'SBS뉴스,우크라이나, 러시아, 정전협상, 평화협상, 회담'), '러시아': (257924, 155, 'PrayForUkraine,SBS뉴스'), '단일': (8105, 742, '안철수소신투표, 기호4번'), '윤석열': (59412, 4, '양아치,윤석열,팩트체크'), '결렬': (3473, 71, '대선, 단일화, 윤석열, TV토론, 안철수,안철수소신투표, 기호4번')}\n"
          ]
        }
      ]
    },
    {
      "cell_type": "markdown",
      "source": [
        "##weekly_twitter"
      ],
      "metadata": {
        "id": "FAQZpuifVzuT"
      }
    },
    {
      "cell_type": "code",
      "source": [
        "cursor.execute(\"SELECT keyword FROM keyword WHERE DATE(c_date) >= ADDDATE(curdate(), - WEEKDAY(curdate())) AND DATE(c_date) <= ADDDATE(curdate(), - WEEKDAY(curdate())+ 6) GROUP BY keyword ORDER BY SUM(weight) DESC LIMIT 5;\")\n",
        "keywords = list(cursor.fetchall())\n",
        "if len(keywords) != 0:\n",
        "  cursor.execute(\"SELECT keyword_id, CAST(SUM(retweet) AS SIGNED), CAST(SUM(like_count) AS SIGNED), group_concat(DISTINCT(nullif(tags, 'empty'))) FROM twitter WHERE SUBSTR(keyword_id, 1, 8) >= ADDDATE(curdate(), - WEEKDAY(curdate())) AND SUBSTR(keyword_id, 1, 8) <= ADDDATE(curdate(), - WEEKDAY(curdate())+ 6) GROUP BY keyword_id ORDER BY COUNT(keyword_id) DESC;\")\n",
        "  twitter = cursor.fetchall()\n",
        "else:\n",
        "  cursor.execute(\"SELECT keyword FROM keyword WHERE DATE(c_date) >= ADDDATE(date_add(curdate(), interval -1 day), - WEEKDAY(date_add(curdate(), interval -1 day))) AND DATE(c_date) <= ADDDATE(date_add(curdate(), interval -1 day), - WEEKDAY(date_add(curdate(), interval -1 day))+ 6) GROUP BY keyword ORDER BY SUM(weight) DESC LIMIT 5;\")\n",
        "  keywords = list(cursor.fetchall())\n",
        "  cursor.execute(\"SELECT keyword_id, CAST(SUM(retweet) AS SIGNED), CAST(SUM(like_count) AS SIGNED), group_concat(DISTINCT(nullif(tags, 'empty'))) FROM twitter WHERE SUBSTR(keyword_id, 1, 8) >= ADDDATE(date_add(curdate(), interval -1 day), - WEEKDAY(date_add(curdate(), interval -1 day))) AND SUBSTR(keyword_id, 1, 8) <= ADDDATE(date_add(curdate(), interval -1 day), - WEEKDAY(date_add(curdate(), interval -1 day))+ 6) GROUP BY keyword_id ORDER BY COUNT(keyword_id) DESC;\")\n",
        "  twitter = cursor.fetchall()\n",
        "\n",
        "weekly_twitter = {}\n",
        "for i in keywords:\n",
        "  weekly_twitter[i[0]] = [0, 0, '']\n",
        "no = 1\n",
        "while len(keywords) > 0:\n",
        "    word = keywords.pop(0)\n",
        "    for tweet in twitter:\n",
        "        if word[0] in tweet[0]:\n",
        "            weekly_twitter[word[0]][0] += tweet[1]\n",
        "            weekly_twitter[word[0]][1] += tweet[2]\n",
        "            weekly_twitter[word[0]][2] += tweet[3]\n",
        "    no += 1\n",
        "print(weekly_twitter)"
      ],
      "metadata": {
        "colab": {
          "base_uri": "https://localhost:8080/"
        },
        "id": "GobhU9hQVz1V",
        "outputId": "f323d7c0-3ba6-4796-cd3b-70b4fee35538"
      },
      "execution_count": null,
      "outputs": [
        {
          "output_type": "stream",
          "name": "stdout",
          "text": [
            "{'우크라': [86876, 86, 'SBS뉴스,우크라이나, 러시아, 정전협상, 평화협상, 회담SBS뉴스,우크라이나, 러시아, 정전협상, 평화협상, 회담'], '러시아': [491066, 305, 'PrayForUkraine,SBS뉴스PrayForUkraine,SBS뉴스'], '키예프': [294166, 11, 'SBS뉴스SBS뉴스'], '윤석열': [129205, 8, '양아치,윤석열,팩트체크양아치,윤석열,팩트체크'], '단일': [8105, 742, '안철수소신투표, 기호4번']}\n"
          ]
        }
      ]
    },
    {
      "cell_type": "markdown",
      "source": [
        "##monthly_twitter"
      ],
      "metadata": {
        "id": "oR8S64NAWDEd"
      }
    },
    {
      "cell_type": "code",
      "source": [
        "cursor.execute(\"SELECT keyword FROM keyword WHERE DATE(c_date) >= DATE_SUB(curdate(), INTERVAL (DAY(curdate())-1) DAY) AND DATE(c_date) <= LAST_DAY(NOW()) GROUP BY keyword ORDER BY SUM(weight) DESC LIMIT 5;\")\n",
        "keywords = list(cursor.fetchall())\n",
        "if len(keywords) != 0:\n",
        "  cursor.execute(\"SELECT keyword_id, CAST(SUM(retweet) AS SIGNED), CAST(SUM(like_count) AS SIGNED), group_concat(DISTINCT(nullif(tags, 'empty'))) FROM twitter WHERE SUBSTR(keyword_id, 1, 8) >= DATE_SUB(curdate(), INTERVAL (DAY(curdate())-1) DAY) AND SUBSTR(keyword_id, 1, 8) <= LAST_DAY(NOW()) GROUP BY keyword_id ORDER BY COUNT(keyword_id) DESC;\")\n",
        "  twitter = cursor.fetchall()\n",
        "else:\n",
        "  #이번달 정보 없을 시 지난달 정보 출력\n",
        "  cursor.execute(\"SELECT keyword FROM keyword WHERE date_format(c_date, '%Y-%m') = date_format((curdate() - INTERVAL 1 MONTH), '%Y-%m') GROUP BY keyword ORDER BY SUM(weight) DESC LIMIT 5;\")\n",
        "  keywords = list(cursor.fetchall())\n",
        "  cursor.execute(\"SELECT keyword_id, CAST(SUM(retweet) AS SIGNED), CAST(SUM(like_count) AS SIGNED), group_concat(DISTINCT(nullif(tags, 'empty'))) FROM twitter WHERE SUBSTR(keyword_id, 1, 8) = date_format((curdate() - INTERVAL 1 MONTH), '%Y-%m') GROUP BY keyword_id ORDER BY COUNT(keyword_id) DESC;\")\n",
        "  twitter = cursor.fetchall()\n",
        "\n",
        "monthly_twitter = {}\n",
        "for i in keywords:\n",
        "  monthly_twitter[i[0]] = [0, 0, '']\n",
        "\n",
        "no = 1\n",
        "while len(keywords) > 0:\n",
        "    word = keywords.pop(0)\n",
        "    for tweet in twitter:\n",
        "        if word[0] in tweet[0]:\n",
        "            monthly_twitter[word[0]][0] += tweet[1]\n",
        "            monthly_twitter[word[0]][1] += tweet[2]\n",
        "            monthly_twitter[word[0]][2] += tweet[3]\n",
        "    no += 1\n",
        "print(monthly_twitter)"
      ],
      "metadata": {
        "colab": {
          "base_uri": "https://localhost:8080/"
        },
        "id": "0XJGOK-iWDJS",
        "outputId": "ee9dc794-ee9d-4e79-c1ed-5e28a023b6d7"
      },
      "execution_count": null,
      "outputs": [
        {
          "output_type": "stream",
          "name": "stdout",
          "text": [
            "{'우크라': [86876, 86, 'SBS뉴스,우크라이나, 러시아, 정전협상, 평화협상, 회담SBS뉴스,우크라이나, 러시아, 정전협상, 평화협상, 회담'], '러시아': [491066, 305, 'PrayForUkraine,SBS뉴스PrayForUkraine,SBS뉴스'], '키예프': [294166, 11, 'SBS뉴스SBS뉴스'], '윤석열': [129205, 8, '양아치,윤석열,팩트체크양아치,윤석열,팩트체크'], '단일': [8105, 742, '안철수소신투표, 기호4번']}\n"
          ]
        }
      ]
    },
    {
      "cell_type": "markdown",
      "source": [
        "##daily_youtube"
      ],
      "metadata": {
        "id": "fjR8nJPRj8ek"
      }
    },
    {
      "cell_type": "code",
      "source": [
        "cursor.execute(\"SELECT keyword FROM keyword WHERE c_date = date(now()) ORDER BY weight DESC LIMIT 5;\")\n",
        "keywords = list(cursor.fetchall())\n",
        "if len(keywords) != 0:\n",
        "  cursor.execute(\"SELECT keyword_id, CAST(SUM(view_count) AS SIGNED), CAST(SUM(like_count) AS SIGNED), CAST(SUM(comment_count) AS SIGNED), group_concat(tags) FROM youtube WHERE SUBSTR(keyword_id, 1, 8) = curdate() GROUP BY keyword_id ORDER BY COUNT(keyword_id) DESC;\")\n",
        "  youtube = cursor.fetchall()\n",
        "else:\n",
        "  #오늘 정보 없을 시 어제 정보 출력\n",
        "  cursor.execute(\"SELECT keyword FROM keyword WHERE c_date = date_add(curdate(), interval -1 day) ORDER BY weight DESC LIMIT 5;\")\n",
        "  keywords = list(cursor.fetchall())\n",
        "  cursor.execute(\"SELECT keyword_id, CAST(SUM(view_count) AS SIGNED), CAST(SUM(like_count) AS SIGNED), CAST(SUM(comment_count) AS SIGNED), group_concat(tags) FROM youtube WHERE SUBSTR(keyword_id, 1, 8) = date_add(curdate(), interval -1 day) GROUP BY keyword_id ORDER BY COUNT(keyword_id) DESC;\")\n",
        "  youtube = cursor.fetchall()\n",
        "\n",
        "daily_youtube = {}\n",
        "no = 1\n",
        "while len(keywords) > 0:\n",
        "    word = keywords.pop(0)\n",
        "    for data in youtube:\n",
        "        if word[0] in data[0]:\n",
        "            daily_youtube[word[0]] = data[1:]\n",
        "    no += 1\n",
        "print(daily_youtube)"
      ],
      "metadata": {
        "colab": {
          "base_uri": "https://localhost:8080/"
        },
        "id": "teFuYj94j8md",
        "outputId": "63ecbd13-12a7-40f2-c17a-226d9ab3cec3"
      },
      "execution_count": null,
      "outputs": [
        {
          "output_type": "stream",
          "name": "stdout",
          "text": [
            "{'우크라': (8249461, 72202, 32258, 'source:영상, type:방송, genre:사회, format:기타, person:박기완,source:영상, type:방송, genre:국제, format:인터뷰, person:호준석,source:영상, type:방송, genre:국제, format:기타,JTBC, JTBC NEWS, 뉴스, 뉴스룸, 손석희, newsroom, sohnsukhee, 제이티비씨, 제이티비씨 뉴스, ㅓ슟, 제이티비시, 제이티비시 뉴스, 안나경, 한민용, 오대영,YTN실시간, YTN, 우크라이나, 미국, 러시아, 영국, 사이버공격, 비상사태,SBSBiz, 경제, 뉴스,source:영상, type:방송, genre:국제, format:기타, person:구수본,MBC, MBC뉴스, 뉴스데스크, newsdesk, 뉴스투데이, newstoday, 8시뉴스, 아침뉴스, 뉴스, 정오뉴스, news, 러시아, 우크라이나, 키예프, 전쟁, 블라디미르 푸틴, 볼로디미르 젤렌스키,MBC, MBC뉴스, 뉴스데스크, newsdesk, 뉴스투데이, newstoday, 8시뉴스, 아침뉴스, 뉴스, 정오뉴스, news, 볼로디미르 젤렌스키, 우크라이나, 러시아, 블라디미르 푸틴,sourc'), '러시아': (28240321, 152542, 30699, '금융, 제재, 핵폭탄,MBC, MBC뉴스, 뉴스데스크, newsdesk, 뉴스투데이, newstoday, 8시뉴스, 아침뉴스, 뉴스, 정오뉴스, news, 우크라이나, 키예프, 전쟁, 러시아, Kyiv, Ukraine, Livecam, Russia, Putin,슈카, 슈카월드, 경제, 시사, 이슈, 뉴스, 상식, 면접, 논술, 자소서, 취업, 주식, 증시, 주가, 시장, 자산, 투자, 금리,source:영상, type:방송, genre:국제, format:기타, person:김원배,source:영상, type:방송, genre:국제, format:리포트, person:기정훈,KOREA NEWS, Korean News, News Network, SBS, SBS NEWS, SBS 뉴스, SEOUL BROADCASTING SYSTEM, yt:cc=on, 경찰, 국가, 대통령, 대한민국 뉴스, 러시아, 서울 방송, 에스비에스, 에스비에스 뉴스, 원전, 전쟁, 체르노빌,latest News, Happening Now, CNN, world news, cnni, cnn international, alex marquardt, michael holmes,source:영상, type:디지털, genre:국제, format:기타, series:자막뉴스, 우크라이나사태, 러시아전쟁, 중국, 세계3'), '단일': (7119497, 45088, 5435, 'empty,단일상품, 상품그룹, 11번가, 검색결과, 옵션,리그오브레전드, LOL, 똘킹, 똘킹생방송, 똘킹트위치, ddolking555,2021년, 사회복지사 1급 족집게 특강, 사회복지 조사론, 9강, 단일사례설계 특징, 기초선 A, 개입 B, AB 설계, ABA 설계, BAB 설계, ABAB설계, 다중기초선설계, 시험대비 필수, 말말복지, 복지 in 연구소, 김진훈, 조사론 요약, #합격, 합격비결,떡호떡, dduckhodduck, リグ･オブ･レゼンド, lol, leagueoflegends, 리그오브레전드, 한국, korea, japen, 일본, 룬테라, 레전드오브룬테라, 와일드리프트, 롤토체스, TFT, 전략적팀전투, 소환사, 협곡,단일 모드 리신, One for all Lee sin, 이속 리신, Full Speed Lee sin,리그오브레전드, LOL, 똘킹, 똘킹생방송, 똘킹트위치, ddolking555,팀컬러, 팀케미, 빅윈, 원창연, 제독신, 신보석, 뿌꾸, 랭커초이스, 피파 랭커, 시즌 단일, lh단일, LH, 피파 단일팀 추천,단일모'), '윤석열': (3391239, 75118, 44933, '6개월 초보 정치인, format:기타, siries:SBS NEWS, siries:SBS 뉴스, siries:에스비에스 뉴스, station:SBS, station:SEOUL BROADCASTING SYSTEM, station:서울 방송, station:에스비에스, type:KOREA NEWS, type:Korean News, type:News, type:News Network, type:뉴스, type:대한민국 뉴스, type:방송, 대선토론, 안보 준비 안 돼, 윤석열, 이재명, 전쟁, 후보,format:기타, siries:SBS NEWS, siries:SBS 뉴스, siries:에스비에스 뉴스, station:SBS, station:SEOUL BROADCASTING SYSTEM, station:서울 방송, station:에스비에스, type:KOREA NEWS, type:Korean News, type:News, type:News Network, type:뉴스, type:대한민국 뉴스, type:방송, 대선토론, 빙하타고 온 둘리, 윤석열, 이재명, 정상적 질문하라, 한반도, 후보,JTBC, JTBC NEWS, 뉴스, 뉴스룸, 손석희, newsroom, sohnsukhee, 제이티비씨, 제이티비씨 뉴스, ㅓ슟, 제이티비시, 제이티비시 뉴스, 안나경, 한민용, 오대영,source:영상, type:방송, genre:정치'), '결렬': (2082062, 58664, 22015, 'TV조선, 티비조선, 조선일보, 종편, 종합편성, TV조선뉴스, 뉴스, 뉴스프로그램, NEWS, 채널19, CH19, 뉴스9, 뉴스7, 포커스, 신동욱, 윤우리,SBS NEWS, SBS뉴스, sbs뉴스, sbs8뉴스, 에스비에스, sbs 뉴스, SBS, 실시간, sbs 실시간, SBS 8뉴스, SBS 8시뉴스, SBS LIVE, sbs live, sbs 생중계, sbs 온에어, SBS 모닝와이드, sbs모바일24, 모바일24, sbsmobile24, sbs24시, sbs라이브,MBN, MBNNEWS, 종합뉴스, 최일구, 주요뉴스, 이재명, 윤석열, 안철수, 대선, 후보, 정치권, 더불어민주당, 공약, 강조, 대선후보, 국민의힘,source:영상, type:방송, genre:정치, format:기타, topic:2022대선, person:송재인,결렬, 단일화, 윤석열,결렬, 안철수, 윤석열,채널A, 채널A 뉴스, 채널A NEWS, 뉴스A,SBS NEWS, SBS뉴스, sbs뉴스, sbs8뉴스, 에스비에스, sbs 뉴스, SBS, 실시간, sbs 실시간, SBS 8뉴스, SBS 8시뉴스, SBS LIVE, sbs live, sbs 생중계, sbs 온에어, SBS 모닝와이드, sb')}\n"
          ]
        }
      ]
    },
    {
      "cell_type": "markdown",
      "source": [
        "##weekly_youtube"
      ],
      "metadata": {
        "id": "qrdfxmgokP7L"
      }
    },
    {
      "cell_type": "code",
      "source": [
        "cursor.execute(\"SELECT keyword FROM keyword WHERE DATE(c_date) >= ADDDATE(curdate(), - WEEKDAY(curdate())) AND DATE(c_date) <= ADDDATE(curdate(), - WEEKDAY(curdate())+ 6) ORDER BY weight DESC LIMIT 5;\")\n",
        "keywords = list(cursor.fetchall())\n",
        "if len(keywords) != 0:\n",
        "  cursor.execute(\"SELECT keyword_id, CAST(SUM(view_count) AS SIGNED), CAST(SUM(like_count) AS SIGNED), CAST(SUM(comment_count) AS SIGNED), group_concat(tags) FROM youtube WHERE SUBSTR(keyword_id, 1, 8) >= ADDDATE(curdate(), - WEEKDAY(curdate())) AND SUBSTR(keyword_id, 1, 8) <= ADDDATE(curdate(), - WEEKDAY(curdate())+ 6) GROUP BY keyword_id ORDER BY COUNT(keyword_id) DESC;\")\n",
        "  youtube = cursor.fetchall()\n",
        "else:\n",
        "  #이번주 정보 없을 시 지난주 정보 출력\n",
        "  cursor.execute(\"SELECT keyword FROM keyword WHERE DATE(c_date) >= ADDDATE(date_add(curdate(), interval -1 day), - WEEKDAY(date_add(curdate(), interval -1 day))) AND DATE(c_date) <= ADDDATE(date_add(curdate(), interval -1 day), - WEEKDAY(date_add(curdate(), interval -1 day))+ 6) ORDER BY weight DESC LIMIT 5;\")\n",
        "  keywords = list(cursor.fetchall())  \n",
        "  cursor.execute(\"SELECT keyword_id, CAST(SUM(view_count) AS SIGNED), CAST(SUM(like_count) AS SIGNED), CAST(SUM(comment_count) AS SIGNED), group_concat(tags) FROM youtube WHERE SUBSTR(keyword_id, 1, 8) >= ADDDATE(date_add(curdate(), interval -1 day), - WEEKDAY(date_add(curdate(), interval -1 day))) AND SUBSTR(keyword_id, 1, 8) <= ADDDATE(date_add(curdate(), interval -1 day), - WEEKDAY(date_add(curdate(), interval -1 day))+ 6) GROUP BY keyword_id ORDER BY COUNT(keyword_id) DESC;\")\n",
        "  youtube = cursor.fetchall()\n",
        "\n",
        "weekly_youtube = {}\n",
        "for i in keywords:\n",
        "  weekly_youtube[i[0]] = [0, 0, 0, '']\n",
        "no = 1\n",
        "while len(keywords) > 0:\n",
        "    word = keywords.pop(0)\n",
        "    for data in youtube:\n",
        "        if word[0] in data[0]:\n",
        "            weekly_youtube[word[0]][0] += data[1]\n",
        "            weekly_youtube[word[0]][1] += data[2]\n",
        "            weekly_youtube[word[0]][2] += data[3]\n",
        "            weekly_youtube[word[0]][3] += data[4]\n",
        "    no += 1\n",
        "print(weekly_youtube)"
      ],
      "metadata": {
        "colab": {
          "base_uri": "https://localhost:8080/"
        },
        "id": "bggp-cP7kQCD",
        "outputId": "ed35777d-ad24-4a62-c946-6ab6283f7bae"
      },
      "execution_count": null,
      "outputs": [
        {
          "output_type": "stream",
          "name": "stdout",
          "text": [
            "{'우크라': [24472300, 211900, 102902, 'source:영상, type:방송, genre:사회, format:기타, person:박기완,source:영상, type:방송, genre:국제, format:인터뷰, person:호준석,source:영상, type:방송, genre:국제, format:기타,JTBC, JTBC NEWS, 뉴스, 뉴스룸, 손석희, newsroom, sohnsukhee, 제이티비씨, 제이티비씨 뉴스, ㅓ슟, 제이티비시, 제이티비시 뉴스, 안나경, 한민용, 오대영,YTN실시간, YTN, 우크라이나, 미국, 러시아, 영국, 사이버공격, 비상사태,SBSBiz, 경제, 뉴스,source:영상, type:방송, genre:국제, format:기타, person:구수본,MBC, MBC뉴스, 뉴스데스크, newsdesk, 뉴스투데이, newstoday, 8시뉴스, 아침뉴스, 뉴스, 정오뉴스, news, 러시아, 우크라이나, 키예프, 전쟁, 블라디미르 푸틴, 볼로디미르 젤렌스키,MBC, MBC뉴스, 뉴스데스크, newsdesk, 뉴스투데이, newstoday, 8시뉴스, 아침뉴스, 뉴스, 정오뉴스, news, 볼로디미르 젤렌스키, 우크라이나, 러시아, 블라디미르 푸틴,sourcJTBC, JTBC NEWS, 뉴스, 뉴스룸, 손석희, newsroom, sohnsukhee, 제이티비씨, 제이티비씨 뉴스, ㅓ슟, 제이티비시, 제이티비시 뉴스, 안나경, 한민용, 오대영, 러시아, 러시아군, 키예프, 우크라이나 침공, 러시아 침공, 푸틴, 바이든, 젤렌스키, 우크라이나 상황, No War Please, 우크라이나 필사 저항, 경비대, 도시 폭격, 러시아 군함 꺼져라,source:영상, type:방송, genre:국제, format:기타, person:김종균,JTBC, JTBC NEWS, 뉴스, 뉴스룸, 손석희, newsroom, sohnsukhee, 제이티비씨, 제이티비씨 뉴스, ㅓ슟, 제이티비시, 제이티비시 뉴스, 안나경, 한민용, 오대영,연합뉴스, yonhapnews, 뉴스, 영상, 이슈, 디지털, news, 화제, 우크라이나, 전쟁, 러시아,KBS, kbs news, kbs 뉴스, kbs뉴스, 국제, 군사작전, 뉴스, 뉴스_기타, 대통령, 돈바스, 러시아, 사적, 선포, 우크라이나, 움직임, 유지향, 임박, 침공, 푸틴,KBS, 뉴스, KBS뉴스라이source:영상, type:방송, genre:사회, format:기타, person:박기완,source:영상, type:방송, genre:국제, format:인터뷰, person:호준석,source:영상, type:방송, genre:국제, format:기타,JTBC, JTBC NEWS, 뉴스, 뉴스룸, 손석희, newsroom, sohnsukhee, 제이티비씨, 제이티비씨 뉴스, ㅓ슟, 제이티비시, 제이티비시 뉴스, 안나경, 한민용, 오대영,YTN실시간, YTN, 우크라이나, 미국, 러시아, 영국, 사이버공격, 비상사태,SBSBiz, 경제, 뉴스,source:영상, type:방송, genre:국제, format:기타, person:구수본,MBC, MBC뉴스, 뉴스데스크, newsdesk, 뉴스투데이, newstoday, 8시뉴스, 아침뉴스, 뉴스, 정오뉴스, news, 러시아, 우크라이나, 키예프, 전쟁, 블라디미르 푸틴, 볼로디미르 젤렌스키,MBC, MBC뉴스, 뉴스데스크, newsdesk, 뉴스투데이, newstoday, 8시뉴스, 아침뉴스, 뉴스, 정오뉴스, news, 볼로디미르 젤렌스키, 우크라이나, 러시아, 블라디미르 푸틴,sourcJTBC, JTBC NEWS, 뉴스, 뉴스룸, 손석희, newsroom, sohnsukhee, 제이티비씨, 제이티비씨 뉴스, ㅓ슟, 제이티비시, 제이티비시 뉴스, 안나경, 한민용, 오대영, 러시아, 러시아군, 키예프, 우크라이나 침공, 러시아 침공, 푸틴, 바이든, 젤렌스키, 우크라이나 상황, No War Please, 우크라이나 필사 저항, 경비대, 도시 폭격, 러시아 군함 꺼져라,source:영상, type:방송, genre:국제, format:기타, person:김종균,JTBC, JTBC NEWS, 뉴스, 뉴스룸, 손석희, newsroom, sohnsukhee, 제이티비씨, 제이티비씨 뉴스, ㅓ슟, 제이티비시, 제이티비시 뉴스, 안나경, 한민용, 오대영,연합뉴스, yonhapnews, 뉴스, 영상, 이슈, 디지털, news, 화제, 우크라이나, 전쟁, 러시아,KBS, kbs news, kbs 뉴스, kbs뉴스, 국제, 군사작전, 뉴스, 뉴스_기타, 대통령, 돈바스, 러시아, 사적, 선포, 우크라이나, 움직임, 유지향, 임박, 침공, 푸틴,KBS, 뉴스, KBS뉴스라이'], '러시아': [92525708, 537642, 105164, '금융, 제재, 핵폭탄,MBC, MBC뉴스, 뉴스데스크, newsdesk, 뉴스투데이, newstoday, 8시뉴스, 아침뉴스, 뉴스, 정오뉴스, news, 우크라이나, 키예프, 전쟁, 러시아, Kyiv, Ukraine, Livecam, Russia, Putin,슈카, 슈카월드, 경제, 시사, 이슈, 뉴스, 상식, 면접, 논술, 자소서, 취업, 주식, 증시, 주가, 시장, 자산, 투자, 금리,source:영상, type:방송, genre:국제, format:기타, person:김원배,source:영상, type:방송, genre:국제, format:리포트, person:기정훈,KOREA NEWS, Korean News, News Network, SBS, SBS NEWS, SBS 뉴스, SEOUL BROADCASTING SYSTEM, yt:cc=on, 경찰, 국가, 대통령, 대한민국 뉴스, 러시아, 서울 방송, 에스비에스, 에스비에스 뉴스, 원전, 전쟁, 체르노빌,latest News, Happening Now, CNN, world news, cnni, cnn international, alex marquardt, michael holmes,source:영상, type:디지털, genre:국제, format:기타, series:자막뉴스, 우크라이나사태, 러시아전쟁, 중국, 세계3MBC, MBC뉴스, 뉴스데스크, newsdesk, 뉴스투데이, newstoday, 8시뉴스, 아침뉴스, 뉴스, 정오뉴스, news, 우크라이나, 키예프, 전쟁, 러시아, Kyiv, Ukraine, Livecam, Russia, Putin,KBS, KBS 뉴스, KBS뉴스, NEWS, kbs news, kbs 뉴스, kbs뉴스, 공격, 공습, 국제, 뉴스, 뉴스라인, 단행, 러시아, 류호성, 미사일, 시민, 우크라이나, 전격, 침공, 탈출, 파괴, 행렬,러시아, 우크라이나, 침공, 군기지 무력화, 수도 진입, 미국, 바이든, 푸틴, 전쟁, JTBC, JTBC NEWS, 뉴스, 뉴스룸, 손석희, newsroom, sohnsukhee, 제이티비씨, 제이티비씨 뉴스, ㅓ슟, 제이티비시, 제이티비시 뉴스, 안나경, 한민용, 오대영,JTBC, JTBC NEWS, 뉴스, 뉴스룸, 손석희, newsroom, sohnsukhee, 제이티비씨, 제이티비씨 뉴스, ㅓ슟, 제이티비시, 제이티비시 뉴스, 안나경, 한민용, 오대영,source:영상, type:방송, genre:국제, format:인터뷰, person:강성웅,황현필, 한국사, 역사, 금융, 제재, 핵폭탄,MBC, MBC뉴스, 뉴스데스크, newsdesk, 뉴스투데이, newstoday, 8시뉴스, 아침뉴스, 뉴스, 정오뉴스, news, 우크라이나, 키예프, 전쟁, 러시아, Kyiv, Ukraine, Livecam, Russia, Putin,슈카, 슈카월드, 경제, 시사, 이슈, 뉴스, 상식, 면접, 논술, 자소서, 취업, 주식, 증시, 주가, 시장, 자산, 투자, 금리,source:영상, type:방송, genre:국제, format:기타, person:김원배,source:영상, type:방송, genre:국제, format:리포트, person:기정훈,KOREA NEWS, Korean News, News Network, SBS, SBS NEWS, SBS 뉴스, SEOUL BROADCASTING SYSTEM, yt:cc=on, 경찰, 국가, 대통령, 대한민국 뉴스, 러시아, 서울 방송, 에스비에스, 에스비에스 뉴스, 원전, 전쟁, 체르노빌,latest News, Happening Now, CNN, world news, cnni, cnn international, alex marquardt, michael holmes,source:영상, type:디지털, genre:국제, format:기타, series:자막뉴스, 우크라이나사태, 러시아전쟁, 중국, 세계3MBC, MBC뉴스, 뉴스데스크, newsdesk, 뉴스투데이, newstoday, 8시뉴스, 아침뉴스, 뉴스, 정오뉴스, news, 우크라이나, 키예프, 전쟁, 러시아, Kyiv, Ukraine, Livecam, Russia, Putin,KBS, KBS 뉴스, KBS뉴스, NEWS, kbs news, kbs 뉴스, kbs뉴스, 공격, 공습, 국제, 뉴스, 뉴스라인, 단행, 러시아, 류호성, 미사일, 시민, 우크라이나, 전격, 침공, 탈출, 파괴, 행렬,러시아, 우크라이나, 침공, 군기지 무력화, 수도 진입, 미국, 바이든, 푸틴, 전쟁, JTBC, JTBC NEWS, 뉴스, 뉴스룸, 손석희, newsroom, sohnsukhee, 제이티비씨, 제이티비씨 뉴스, ㅓ슟, 제이티비시, 제이티비시 뉴스, 안나경, 한민용, 오대영,JTBC, JTBC NEWS, 뉴스, 뉴스룸, 손석희, newsroom, sohnsukhee, 제이티비씨, 제이티비씨 뉴스, ㅓ슟, 제이티비시, 제이티비시 뉴스, 안나경, 한민용, 오대영,source:영상, type:방송, genre:국제, format:인터뷰, person:강성웅,황현필, 한국사, 역사, '], '키예프': [36681533, 180011, 30983, '15만 명, format:기타, siries:SBS NEWS, siries:SBS 뉴스, siries:에스비에스 뉴스, station:SBS, station:SEOUL BROADCASTING SYSTEM, station:서울 방송, station:에스비에스, type:KOREA NEWS, type:Korean News, type:News, type:News Network, type:뉴스, type:대한민국 뉴스, type:방송, yt:cc=on, 대통령, 러시아, 어린이, 우크라이나, 키예프,MBC, MBC뉴스, 뉴스데스크, newsdesk, 뉴스투데이, newstoday, 8시뉴스, 아침뉴스, 뉴스, 정오뉴스, news, 우크라이나, 키예프, 전쟁, 러시아, Kyiv, Ukraine, Livecam, Russia, Putin,source:영상, type:방송, genre:국제, format:중계, person:조수현,MBC, MBC뉴스, 뉴스데스크, newsdesk, 뉴스투데이, newstoday, 8시뉴스, 아침뉴스, 뉴스, 정오뉴스, news, 930뉴스, 12시뉴스, 930, 12시,KBS, KBS 뉴스7, kbs news, kbs 뉴스, kbs뉴스, 공격, 교전, 김유대, 뉴스, 뉴스7, 러시아, 러시아군, 미사일, 속도, 수도, 시내, 압박, 우크라이나, 전격, 진격, 취재, MBC, MBC뉴스, 뉴스데스크, newsdesk, 뉴스투데이, newstoday, 8시뉴스, 아침뉴스, 뉴스, 정오뉴스, news, 우크라이나, 키예프, 전쟁, 러시아, Kyiv, Ukraine, Livecam, Russia, Putin,source:영상, type:방송, genre:국제, format:기타, person:호준석,연합뉴스, yonhapnews, 뉴스, 영상, 이슈, 디지털, news, 화제, 우크라이나, 러시아, 전쟁,러시아, 우크라, 함락,source:영상, type:방송, genre:국제, format:기타, person:이상순,JTBC, JTBC NEWS, 뉴스, 뉴스룸, 손석희, newsroom, sohnsukhee, 제이티비씨, 제이티비씨 뉴스, ㅓ슟, 제이티비시, 제이티비시 뉴스, 안나경, 한민용, 오대영, 우크라이나, 우크라이나 침공, 러시아, 러시아 우크라이나, 푸틴, 러시아 제재, 바이든, 키예프, 우크라이나 실시간,source:영상, type:방송, genre:국제, format:기타, series:더뉴스클립,연합뉴스, yonhapnews, 뉴스, 영상, 이슈, 디지털, news, 화제,source:영상, type:방송, ']}\n"
          ]
        }
      ]
    },
    {
      "cell_type": "markdown",
      "source": [
        "##monthly_youtube"
      ],
      "metadata": {
        "id": "oUdA3kMyqhq1"
      }
    },
    {
      "cell_type": "code",
      "source": [
        "cursor.execute(\"SELECT keyword FROM keyword WHERE DATE(c_date) >= DATE_SUB(curdate(), INTERVAL (DAY(curdate())-1) DAY) AND DATE(c_date) <= LAST_DAY(NOW()) ORDER BY weight DESC LIMIT 5;\")\n",
        "keywords = list(cursor.fetchall())\n",
        "if len(keywords) != 0:\n",
        "  cursor.execute(\"SELECT keyword_id, CAST(SUM(view_count) AS SIGNED), CAST(SUM(like_count) AS SIGNED), CAST(SUM(comment_count) AS SIGNED), group_concat(tags) FROM youtube WHERE published >= DATE_SUB(curdate(), INTERVAL (DAY(curdate())-1) DAY) AND published <= LAST_DAY(NOW()) GROUP BY keyword_id ORDER BY COUNT(keyword_id) DESC;\")\n",
        "  twitter = cursor.fetchall()\n",
        "else:\n",
        "  cursor.execute(\"SELECT keyword FROM keyword WHERE date_format(c_date, '%Y-%m') = date_format((curdate() - INTERVAL 1 MONTH), '%Y-%m') ORDER BY weight DESC LIMIT 5;\")\n",
        "  keywords = list(cursor.fetchall()) \n",
        "  cursor.execute(\"SELECT keyword_id, CAST(SUM(view_count) AS SIGNED), CAST(SUM(like_count) AS SIGNED), CAST(SUM(comment_count) AS SIGNED), group_concat(tags) FROM youtube  WHERE SUBSTR(keyword_id, 1, 8) = date_format((curdate() - INTERVAL 1 MONTH), '%Y-%m') GROUP BY keyword_id ORDER BY COUNT(keyword_id) DESC;\")\n",
        "  twitter = cursor.fetchall() \n",
        "\n",
        "monthly_youtube = {}\n",
        "for i in keywords:\n",
        "  monthly_youtube[i[0]] = [0, 0, 0, '']\n",
        "no = 1\n",
        "while len(keywords) > 0:\n",
        "    word = keywords.pop(0)\n",
        "    for data in youtube:\n",
        "        if word[0] in data[0]:\n",
        "            monthly_youtube[word[0]][0] += data[1]\n",
        "            monthly_youtube[word[0]][1] += data[2]\n",
        "            monthly_youtube[word[0]][2] += data[3]\n",
        "            monthly_youtube[word[0]][3] += data[4]\n",
        "    no += 1\n",
        "print(monthly_youtube)"
      ],
      "metadata": {
        "colab": {
          "base_uri": "https://localhost:8080/"
        },
        "id": "nOvGsncnqhwE",
        "outputId": "227ee785-1c3e-457f-b8d4-2cbfe82202cb"
      },
      "execution_count": null,
      "outputs": [
        {
          "output_type": "stream",
          "name": "stdout",
          "text": [
            "{'우크라': [24472300, 211900, 102902, 'source:영상, type:방송, genre:사회, format:기타, person:박기완,source:영상, type:방송, genre:국제, format:인터뷰, person:호준석,source:영상, type:방송, genre:국제, format:기타,JTBC, JTBC NEWS, 뉴스, 뉴스룸, 손석희, newsroom, sohnsukhee, 제이티비씨, 제이티비씨 뉴스, ㅓ슟, 제이티비시, 제이티비시 뉴스, 안나경, 한민용, 오대영,YTN실시간, YTN, 우크라이나, 미국, 러시아, 영국, 사이버공격, 비상사태,SBSBiz, 경제, 뉴스,source:영상, type:방송, genre:국제, format:기타, person:구수본,MBC, MBC뉴스, 뉴스데스크, newsdesk, 뉴스투데이, newstoday, 8시뉴스, 아침뉴스, 뉴스, 정오뉴스, news, 러시아, 우크라이나, 키예프, 전쟁, 블라디미르 푸틴, 볼로디미르 젤렌스키,MBC, MBC뉴스, 뉴스데스크, newsdesk, 뉴스투데이, newstoday, 8시뉴스, 아침뉴스, 뉴스, 정오뉴스, news, 볼로디미르 젤렌스키, 우크라이나, 러시아, 블라디미르 푸틴,sourcJTBC, JTBC NEWS, 뉴스, 뉴스룸, 손석희, newsroom, sohnsukhee, 제이티비씨, 제이티비씨 뉴스, ㅓ슟, 제이티비시, 제이티비시 뉴스, 안나경, 한민용, 오대영, 러시아, 러시아군, 키예프, 우크라이나 침공, 러시아 침공, 푸틴, 바이든, 젤렌스키, 우크라이나 상황, No War Please, 우크라이나 필사 저항, 경비대, 도시 폭격, 러시아 군함 꺼져라,source:영상, type:방송, genre:국제, format:기타, person:김종균,JTBC, JTBC NEWS, 뉴스, 뉴스룸, 손석희, newsroom, sohnsukhee, 제이티비씨, 제이티비씨 뉴스, ㅓ슟, 제이티비시, 제이티비시 뉴스, 안나경, 한민용, 오대영,연합뉴스, yonhapnews, 뉴스, 영상, 이슈, 디지털, news, 화제, 우크라이나, 전쟁, 러시아,KBS, kbs news, kbs 뉴스, kbs뉴스, 국제, 군사작전, 뉴스, 뉴스_기타, 대통령, 돈바스, 러시아, 사적, 선포, 우크라이나, 움직임, 유지향, 임박, 침공, 푸틴,KBS, 뉴스, KBS뉴스라이source:영상, type:방송, genre:사회, format:기타, person:박기완,source:영상, type:방송, genre:국제, format:인터뷰, person:호준석,source:영상, type:방송, genre:국제, format:기타,JTBC, JTBC NEWS, 뉴스, 뉴스룸, 손석희, newsroom, sohnsukhee, 제이티비씨, 제이티비씨 뉴스, ㅓ슟, 제이티비시, 제이티비시 뉴스, 안나경, 한민용, 오대영,YTN실시간, YTN, 우크라이나, 미국, 러시아, 영국, 사이버공격, 비상사태,SBSBiz, 경제, 뉴스,source:영상, type:방송, genre:국제, format:기타, person:구수본,MBC, MBC뉴스, 뉴스데스크, newsdesk, 뉴스투데이, newstoday, 8시뉴스, 아침뉴스, 뉴스, 정오뉴스, news, 러시아, 우크라이나, 키예프, 전쟁, 블라디미르 푸틴, 볼로디미르 젤렌스키,MBC, MBC뉴스, 뉴스데스크, newsdesk, 뉴스투데이, newstoday, 8시뉴스, 아침뉴스, 뉴스, 정오뉴스, news, 볼로디미르 젤렌스키, 우크라이나, 러시아, 블라디미르 푸틴,sourcJTBC, JTBC NEWS, 뉴스, 뉴스룸, 손석희, newsroom, sohnsukhee, 제이티비씨, 제이티비씨 뉴스, ㅓ슟, 제이티비시, 제이티비시 뉴스, 안나경, 한민용, 오대영, 러시아, 러시아군, 키예프, 우크라이나 침공, 러시아 침공, 푸틴, 바이든, 젤렌스키, 우크라이나 상황, No War Please, 우크라이나 필사 저항, 경비대, 도시 폭격, 러시아 군함 꺼져라,source:영상, type:방송, genre:국제, format:기타, person:김종균,JTBC, JTBC NEWS, 뉴스, 뉴스룸, 손석희, newsroom, sohnsukhee, 제이티비씨, 제이티비씨 뉴스, ㅓ슟, 제이티비시, 제이티비시 뉴스, 안나경, 한민용, 오대영,연합뉴스, yonhapnews, 뉴스, 영상, 이슈, 디지털, news, 화제, 우크라이나, 전쟁, 러시아,KBS, kbs news, kbs 뉴스, kbs뉴스, 국제, 군사작전, 뉴스, 뉴스_기타, 대통령, 돈바스, 러시아, 사적, 선포, 우크라이나, 움직임, 유지향, 임박, 침공, 푸틴,KBS, 뉴스, KBS뉴스라이'], '러시아': [92525708, 537642, 105164, '금융, 제재, 핵폭탄,MBC, MBC뉴스, 뉴스데스크, newsdesk, 뉴스투데이, newstoday, 8시뉴스, 아침뉴스, 뉴스, 정오뉴스, news, 우크라이나, 키예프, 전쟁, 러시아, Kyiv, Ukraine, Livecam, Russia, Putin,슈카, 슈카월드, 경제, 시사, 이슈, 뉴스, 상식, 면접, 논술, 자소서, 취업, 주식, 증시, 주가, 시장, 자산, 투자, 금리,source:영상, type:방송, genre:국제, format:기타, person:김원배,source:영상, type:방송, genre:국제, format:리포트, person:기정훈,KOREA NEWS, Korean News, News Network, SBS, SBS NEWS, SBS 뉴스, SEOUL BROADCASTING SYSTEM, yt:cc=on, 경찰, 국가, 대통령, 대한민국 뉴스, 러시아, 서울 방송, 에스비에스, 에스비에스 뉴스, 원전, 전쟁, 체르노빌,latest News, Happening Now, CNN, world news, cnni, cnn international, alex marquardt, michael holmes,source:영상, type:디지털, genre:국제, format:기타, series:자막뉴스, 우크라이나사태, 러시아전쟁, 중국, 세계3MBC, MBC뉴스, 뉴스데스크, newsdesk, 뉴스투데이, newstoday, 8시뉴스, 아침뉴스, 뉴스, 정오뉴스, news, 우크라이나, 키예프, 전쟁, 러시아, Kyiv, Ukraine, Livecam, Russia, Putin,KBS, KBS 뉴스, KBS뉴스, NEWS, kbs news, kbs 뉴스, kbs뉴스, 공격, 공습, 국제, 뉴스, 뉴스라인, 단행, 러시아, 류호성, 미사일, 시민, 우크라이나, 전격, 침공, 탈출, 파괴, 행렬,러시아, 우크라이나, 침공, 군기지 무력화, 수도 진입, 미국, 바이든, 푸틴, 전쟁, JTBC, JTBC NEWS, 뉴스, 뉴스룸, 손석희, newsroom, sohnsukhee, 제이티비씨, 제이티비씨 뉴스, ㅓ슟, 제이티비시, 제이티비시 뉴스, 안나경, 한민용, 오대영,JTBC, JTBC NEWS, 뉴스, 뉴스룸, 손석희, newsroom, sohnsukhee, 제이티비씨, 제이티비씨 뉴스, ㅓ슟, 제이티비시, 제이티비시 뉴스, 안나경, 한민용, 오대영,source:영상, type:방송, genre:국제, format:인터뷰, person:강성웅,황현필, 한국사, 역사, 금융, 제재, 핵폭탄,MBC, MBC뉴스, 뉴스데스크, newsdesk, 뉴스투데이, newstoday, 8시뉴스, 아침뉴스, 뉴스, 정오뉴스, news, 우크라이나, 키예프, 전쟁, 러시아, Kyiv, Ukraine, Livecam, Russia, Putin,슈카, 슈카월드, 경제, 시사, 이슈, 뉴스, 상식, 면접, 논술, 자소서, 취업, 주식, 증시, 주가, 시장, 자산, 투자, 금리,source:영상, type:방송, genre:국제, format:기타, person:김원배,source:영상, type:방송, genre:국제, format:리포트, person:기정훈,KOREA NEWS, Korean News, News Network, SBS, SBS NEWS, SBS 뉴스, SEOUL BROADCASTING SYSTEM, yt:cc=on, 경찰, 국가, 대통령, 대한민국 뉴스, 러시아, 서울 방송, 에스비에스, 에스비에스 뉴스, 원전, 전쟁, 체르노빌,latest News, Happening Now, CNN, world news, cnni, cnn international, alex marquardt, michael holmes,source:영상, type:디지털, genre:국제, format:기타, series:자막뉴스, 우크라이나사태, 러시아전쟁, 중국, 세계3MBC, MBC뉴스, 뉴스데스크, newsdesk, 뉴스투데이, newstoday, 8시뉴스, 아침뉴스, 뉴스, 정오뉴스, news, 우크라이나, 키예프, 전쟁, 러시아, Kyiv, Ukraine, Livecam, Russia, Putin,KBS, KBS 뉴스, KBS뉴스, NEWS, kbs news, kbs 뉴스, kbs뉴스, 공격, 공습, 국제, 뉴스, 뉴스라인, 단행, 러시아, 류호성, 미사일, 시민, 우크라이나, 전격, 침공, 탈출, 파괴, 행렬,러시아, 우크라이나, 침공, 군기지 무력화, 수도 진입, 미국, 바이든, 푸틴, 전쟁, JTBC, JTBC NEWS, 뉴스, 뉴스룸, 손석희, newsroom, sohnsukhee, 제이티비씨, 제이티비씨 뉴스, ㅓ슟, 제이티비시, 제이티비시 뉴스, 안나경, 한민용, 오대영,JTBC, JTBC NEWS, 뉴스, 뉴스룸, 손석희, newsroom, sohnsukhee, 제이티비씨, 제이티비씨 뉴스, ㅓ슟, 제이티비시, 제이티비시 뉴스, 안나경, 한민용, 오대영,source:영상, type:방송, genre:국제, format:인터뷰, person:강성웅,황현필, 한국사, 역사, '], '키예프': [36681533, 180011, 30983, '15만 명, format:기타, siries:SBS NEWS, siries:SBS 뉴스, siries:에스비에스 뉴스, station:SBS, station:SEOUL BROADCASTING SYSTEM, station:서울 방송, station:에스비에스, type:KOREA NEWS, type:Korean News, type:News, type:News Network, type:뉴스, type:대한민국 뉴스, type:방송, yt:cc=on, 대통령, 러시아, 어린이, 우크라이나, 키예프,MBC, MBC뉴스, 뉴스데스크, newsdesk, 뉴스투데이, newstoday, 8시뉴스, 아침뉴스, 뉴스, 정오뉴스, news, 우크라이나, 키예프, 전쟁, 러시아, Kyiv, Ukraine, Livecam, Russia, Putin,source:영상, type:방송, genre:국제, format:중계, person:조수현,MBC, MBC뉴스, 뉴스데스크, newsdesk, 뉴스투데이, newstoday, 8시뉴스, 아침뉴스, 뉴스, 정오뉴스, news, 930뉴스, 12시뉴스, 930, 12시,KBS, KBS 뉴스7, kbs news, kbs 뉴스, kbs뉴스, 공격, 교전, 김유대, 뉴스, 뉴스7, 러시아, 러시아군, 미사일, 속도, 수도, 시내, 압박, 우크라이나, 전격, 진격, 취재, MBC, MBC뉴스, 뉴스데스크, newsdesk, 뉴스투데이, newstoday, 8시뉴스, 아침뉴스, 뉴스, 정오뉴스, news, 우크라이나, 키예프, 전쟁, 러시아, Kyiv, Ukraine, Livecam, Russia, Putin,source:영상, type:방송, genre:국제, format:기타, person:호준석,연합뉴스, yonhapnews, 뉴스, 영상, 이슈, 디지털, news, 화제, 우크라이나, 러시아, 전쟁,러시아, 우크라, 함락,source:영상, type:방송, genre:국제, format:기타, person:이상순,JTBC, JTBC NEWS, 뉴스, 뉴스룸, 손석희, newsroom, sohnsukhee, 제이티비씨, 제이티비씨 뉴스, ㅓ슟, 제이티비시, 제이티비시 뉴스, 안나경, 한민용, 오대영, 우크라이나, 우크라이나 침공, 러시아, 러시아 우크라이나, 푸틴, 러시아 제재, 바이든, 키예프, 우크라이나 실시간,source:영상, type:방송, genre:국제, format:기타, series:더뉴스클립,연합뉴스, yonhapnews, 뉴스, 영상, 이슈, 디지털, news, 화제,source:영상, type:방송, ']}\n"
          ]
        }
      ]
    }
  ]
}