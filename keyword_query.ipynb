{
  "nbformat": 4,
  "nbformat_minor": 0,
  "metadata": {
    "colab": {
      "name": "keyword_query.ipynb",
      "provenance": [],
      "collapsed_sections": [],
      "toc_visible": true,
      "authorship_tag": "ABX9TyPWlYuVZQVKzZ29JOg+Jn4l",
      "include_colab_link": true
    },
    "kernelspec": {
      "name": "python3",
      "display_name": "Python 3"
    },
    "language_info": {
      "name": "python"
    }
  },
  "cells": [
    {
      "cell_type": "markdown",
      "metadata": {
        "id": "view-in-github",
        "colab_type": "text"
      },
      "source": [
        "<a href=\"https://colab.research.google.com/github/zhaocaiQ/Git-Tutorial/blob/master/keyword_query.ipynb\" target=\"_parent\"><img src=\"https://colab.research.google.com/assets/colab-badge.svg\" alt=\"Open In Colab\"/></a>"
      ]
    },
    {
      "cell_type": "markdown",
      "source": [
        "#데이터추출 쿼리"
      ],
      "metadata": {
        "id": "bmJVBTX3NMKq"
      }
    },
    {
      "cell_type": "markdown",
      "source": [
        "##pymysql설치"
      ],
      "metadata": {
        "id": "jUvxhnVyNQrS"
      }
    },
    {
      "cell_type": "code",
      "source": [
        "pip install pymysql"
      ],
      "metadata": {
        "colab": {
          "base_uri": "https://localhost:8080/"
        },
        "id": "IKY3qtGeMGFk",
        "outputId": "82f5b7a0-190e-46ac-e60d-3584afe2bcba"
      },
      "execution_count": 1,
      "outputs": [
        {
          "output_type": "stream",
          "name": "stdout",
          "text": [
            "Collecting pymysql\n",
            "  Downloading PyMySQL-1.0.2-py3-none-any.whl (43 kB)\n",
            "\u001b[?25l\r\u001b[K     |███████▌                        | 10 kB 18.2 MB/s eta 0:00:01\r\u001b[K     |███████████████                 | 20 kB 23.3 MB/s eta 0:00:01\r\u001b[K     |██████████████████████▍         | 30 kB 20.3 MB/s eta 0:00:01\r\u001b[K     |██████████████████████████████  | 40 kB 17.2 MB/s eta 0:00:01\r\u001b[K     |████████████████████████████████| 43 kB 1.4 MB/s \n",
            "\u001b[?25hInstalling collected packages: pymysql\n",
            "Successfully installed pymysql-1.0.2\n"
          ]
        }
      ]
    },
    {
      "cell_type": "code",
      "execution_count": 12,
      "metadata": {
        "id": "x1IuMoAJMBdH"
      },
      "outputs": [],
      "source": [
        "import pymysql\n",
        "#데이터베이스 연동\n",
        "conn = pymysql.connect(host='', port=3306, user='', password='', db='', charset='utf8')\n",
        "cursor = conn.cursor()"
      ]
    },
    {
      "cell_type": "code",
      "source": [
        "from datetime import datetime\n",
        "date = datetime.today().strftime(\"%Y-%m-%d\")"
      ],
      "metadata": {
        "id": "yIEhUPf5ONc0"
      },
      "execution_count": null,
      "outputs": []
    },
    {
      "cell_type": "code",
      "source": [
        "print(date)"
      ],
      "metadata": {
        "colab": {
          "base_uri": "https://localhost:8080/"
        },
        "id": "84PDKUy9Uoqq",
        "outputId": "65a7ec15-4e2b-44c6-855b-c6a5f755d628"
      },
      "execution_count": null,
      "outputs": [
        {
          "output_type": "stream",
          "name": "stdout",
          "text": [
            "2022-02-27\n"
          ]
        }
      ]
    },
    {
      "cell_type": "markdown",
      "source": [
        "''' 레이블은 레이블대로, 데이터는 데이터대로 리스트 파일에 담아야 차트에 바로 적용 가능 '''"
      ],
      "metadata": {
        "id": "1ojEt3sOowID"
      }
    },
    {
      "cell_type": "markdown",
      "source": [
        "##daily_top25"
      ],
      "metadata": {
        "id": "XgqhcPuZNjHK"
      }
    },
    {
      "cell_type": "code",
      "source": [
        "#DB keyword테이블에서 오늘 기준 키워드 카운트 순 상위 25개의 keyword 추출\n",
        "cursor.execute(\"SELECT keyword, weight FROM keyword WHERE c_date = curdate() ORDER BY weight DESC LIMIT 25;\")\n",
        "result = dict(cursor.fetchall())\n",
        "#오늘에 대한 정보 없을 시 어제날짜로 출력\n",
        "if len(result) == 0:\n",
        "  cursor.execute(\"SELECT keyword, weight FROM keyword WHERE c_date = date_add(curdate(), interval -1 day) ORDER BY weight DESC LIMIT 25;\")\n",
        "  result = dict(cursor.fetchall())\n",
        "\n",
        "#각 리스트에 keyword와 weight 담기\n",
        "labels = list(result.keys())\n",
        "data = list(result.values())\n",
        "print(labels)\n",
        "print(data)"
      ],
      "metadata": {
        "colab": {
          "base_uri": "https://localhost:8080/"
        },
        "id": "_t-JQS8sH2cE",
        "outputId": "fd40ab35-92ae-4861-c7db-ac3c289ca98e"
      },
      "execution_count": 13,
      "outputs": [
        {
          "output_type": "stream",
          "name": "stdout",
          "text": [
            "['우크라', '러시아', '확진', '사망', '대선', '푸틴', '차별', '신규', '토론', '마지막', '바이든', '개학', '폭격', '일교차', '투표', '포격', '러시아군', '키예프', '최다', '연설', '전쟁', '이우', '민간', '세계', '여론']\n",
            "[31, 26, 21, 17, 15, 14, 12, 12, 11, 11, 11, 10, 10, 10, 9, 8, 8, 8, 8, 8, 8, 8, 7, 7, 7]\n"
          ]
        }
      ]
    },
    {
      "cell_type": "markdown",
      "source": [
        "##weekly_top25"
      ],
      "metadata": {
        "id": "CuWWxP7fNsby"
      }
    },
    {
      "cell_type": "code",
      "source": [
        "#DB keyword테이블에서 이번주 기준 keyword별 언급량 합계 상위 25개의 keyword 추출\n",
        "cursor.execute(\"SELECT keyword, CAST(SUM(weight) AS SIGNED) FROM keyword WHERE DATE(c_date) >= ADDDATE(curdate(), - WEEKDAY(curdate())) AND DATE(c_date) <= ADDDATE(curdate(), - WEEKDAY(curdate())+ 6) GROUP BY keyword ORDER BY SUM(weight) DESC LIMIT 25;\")\n",
        "result = dict(cursor.fetchall())\n",
        "#이번주에 대한 정보가 없을시 지난주에 대한 정보 출력\n",
        "if len(result) == 0:\n",
        "  cursor.execute(\"SELECT keyword, CAST(SUM(weight) AS SIGNED) FROM keyword WHERE DATE(c_date) >= date_format(curdate() - INTERVAL 1 WEEK - WEEKDAY(curdate()), '%Y-%m-%d') AND DATE(c_date) <= date_format(curdate() - INTERVAL 1 WEEK + (6 - WEEKDAY(curdate())), '%Y-%m-%d') GROUP BY keyword ORDER BY SUM(weight) DESC LIMIT 25;\")\n",
        "  result = dict(cursor.fetchall())\n",
        "\n",
        "#각 리스트에 keyword와 weight 담기\n",
        "labels = list(result.keys())\n",
        "data = list(result.values())\n",
        "print(labels)\n",
        "print(data)"
      ],
      "metadata": {
        "colab": {
          "base_uri": "https://localhost:8080/"
        },
        "id": "DyjKoV9oMhLL",
        "outputId": "ecc198f8-2478-4bdb-eefb-6d69091a79d0"
      },
      "execution_count": 14,
      "outputs": [
        {
          "output_type": "stream",
          "name": "stdout",
          "text": [
            "['우크라', '러시아', '확진', '산불', '대선', '푸틴', '전쟁', '제재', '이재명', '단일', '방역', '협상', '민간', '윤석열', '정부', '일교차', '키예프', '국제', '사망', '포격', '진화', '바이든', '폭격', '합천', '결렬']\n",
            "[97, 83, 41, 34, 31, 30, 27, 26, 25, 24, 23, 23, 21, 20, 19, 18, 18, 18, 17, 17, 16, 16, 15, 15, 14]\n"
          ]
        }
      ]
    },
    {
      "cell_type": "markdown",
      "source": [
        "##monthly_top25"
      ],
      "metadata": {
        "id": "QO9wpG-MNvNS"
      }
    },
    {
      "cell_type": "code",
      "source": [
        "#DB keyword테이블에서 이번달 keyword별 언급량 합계 상위 25개의 keyword 추출\n",
        "cursor.execute(\"SELECT keyword, CAST(SUM(weight) AS SIGNED) FROM keyword WHERE date_format(c_date, '%Y-%m') = date_format(curdate(), '%Y-%m') GROUP BY keyword ORDER BY SUM(weight) DESC LIMIT 25;\")\n",
        "result = dict(cursor.fetchall())\n",
        "#이번달에 대한 정보가 없을시 지난달에 대한 정보 출력\n",
        "if len(result) == 0:\n",
        "  cursor.execute(\"SELECT keyword, CAST(SUM(weight) AS SIGNED) FROM keyword WHERE date_format(c_date, '%Y-%m') = date_format((curdate() - INTERVAL 1 MONTH), '%Y-%m') GROUP BY keyword ORDER BY SUM(weight) DESC LIMIT 25;\")\n",
        "  result = dict(cursor.fetchall())\n",
        "\n",
        "#각 리스트에 keyword와 weight 담기\n",
        "labels = list(result.keys())\n",
        "data = list(result.values())\n",
        "print(labels)\n",
        "print(data)"
      ],
      "metadata": {
        "colab": {
          "base_uri": "https://localhost:8080/"
        },
        "id": "rfQ_hfiAM0tj",
        "outputId": "37158535-23b1-454b-a055-0519f931911c"
      },
      "execution_count": 15,
      "outputs": [
        {
          "output_type": "stream",
          "name": "stdout",
          "text": [
            "['우크라', '러시아', '확진', '푸틴', '산불', '대선', '방역', '민간', '이재명', '정부', '전쟁', '제재', '포격', '사망', '진화', '바이든', '폭격', '합천', '패스', '중단', '신규', '차별', '국제', '고령', '마지막']\n",
            "[62, 55, 33, 30, 26, 23, 23, 21, 19, 19, 18, 18, 17, 17, 16, 16, 15, 15, 14, 14, 12, 12, 11, 11, 11]\n"
          ]
        }
      ]
    },
    {
      "cell_type": "markdown",
      "source": [
        "##daily_chart"
      ],
      "metadata": {
        "id": "wWBnfzXiN7Os"
      }
    },
    {
      "cell_type": "code",
      "source": [
        "#DB keyword테이블에서 어제, 오늘 키워드 카운트 순 상위 25개의 keyword와 weight추출\n",
        "#오늘 top1~25출력\n",
        "cursor.execute(\"SELECT keyword, weight FROM keyword WHERE c_date = curdate() ORDER BY weight DESC LIMIT 25;\")\n",
        "today = dict(cursor.fetchall())\n",
        "if len(today) != 0:\n",
        "  #전날 top1~25출력\n",
        "  cursor.execute(\"SELECT keyword, weight FROM keyword WHERE c_date = date_add(curdate(), interval -1 day) ORDER BY weight DESC LIMIT 25;\")\n",
        "  yesterday = dict(cursor.fetchall())\n",
        "else:\n",
        "  #오늘 정보가 없을 시 어제,그저께 정보로 데이터 출력\n",
        "  #어제 top1~25출력\n",
        "  cursor.execute(\"SELECT keyword, weight FROM keyword WHERE c_date = date_add(curdate(), interval -1 day) ORDER BY weight DESC LIMIT 25;\")\n",
        "  today = dict(cursor.fetchall()) \n",
        "  #그저께 top1~25출력\n",
        "  cursor.execute(\"SELECT keyword, weight FROM keyword WHERE c_date = date_add(curdate(), interval -2 day) ORDER BY weight DESC LIMIT 25;\")\n",
        "  yesterday = dict(cursor.fetchall())\n",
        "\n",
        "daily_chart = []\n",
        "\n",
        "#어제 비교, 오늘 키워드의 등락표시\n",
        "for i in today.keys():\n",
        "    if i in yesterday.keys():\n",
        "      if today[i] > yesterday[i]:\n",
        "          daily_chart.append([i, today[i], \"up\"])\n",
        "      elif today[i] == yesterday[i]:\n",
        "          daily_chart.append([i, today[i], \"same\"])\n",
        "      else:\n",
        "          daily_chart.append([i, today[i], \"down\"])\n",
        "    else:\n",
        "      daily_chart.append([i, today[i], \"new\"])\n",
        "\n",
        "dic_data = {\n",
        "    'data': daily_chart\n",
        "}\n",
        "print(dic_data)"
      ],
      "metadata": {
        "colab": {
          "base_uri": "https://localhost:8080/"
        },
        "id": "Sw277WwmN7e7",
        "outputId": "22ea0b7c-5d75-4b04-c090-77eb148fddcb"
      },
      "execution_count": 16,
      "outputs": [
        {
          "output_type": "stream",
          "name": "stdout",
          "text": [
            "{'data': [['우크라', 31, 'same'], ['러시아', 26, 'down'], ['확진', 21, 'up'], ['사망', 17, 'new'], ['대선', 15, 'up'], ['푸틴', 14, 'down'], ['차별', 12, 'new'], ['신규', 12, 'new'], ['토론', 11, 'new'], ['마지막', 11, 'new'], ['바이든', 11, 'new'], ['개학', 10, 'new'], ['폭격', 10, 'new'], ['일교차', 10, 'new'], ['투표', 9, 'new'], ['포격', 8, 'down'], ['러시아군', 8, 'new'], ['키예프', 8, 'new'], ['최다', 8, 'new'], ['연설', 8, 'new'], ['전쟁', 8, 'down'], ['이우', 8, 'new'], ['민간', 7, 'down'], ['세계', 7, 'new'], ['여론', 7, 'new']]}\n"
          ]
        }
      ]
    },
    {
      "cell_type": "markdown",
      "source": [
        "##weekly_chart"
      ],
      "metadata": {
        "id": "rNHQVbEKTVes"
      }
    },
    {
      "cell_type": "code",
      "source": [
        "from datetime import datetime\n",
        "date = datetime.today().strftime(\"%Y-%m-%d\")\n",
        "\n",
        "#DB keyword테이블에서 이번주 keyword별 언급량 합계 상위 5개의 keyword 추출\n",
        "cursor.execute(\"SELECT keyword FROM keyword WHERE DATE(c_date) >= ADDDATE(curdate(), - WEEKDAY(curdate())) AND DATE(c_date) <= ADDDATE(curdate(), - WEEKDAY(curdate())+ 6) GROUP BY keyword ORDER BY SUM(weight) DESC LIMIT 5;\")\n",
        "keywords = cursor.fetchall()\n",
        "#이번주(월~일) 날짜 추출\n",
        "cursor.execute(\"WITH RECURSIVE day AS (SELECT ADDDATE(curdate(), - WEEKDAY(curdate())) AS DAY UNION ALL SELECT DATE_ADD(DAY, INTERVAL 1 DAY) FROM day WHERE DAY < ADDDATE(curdate(), - WEEKDAY(curdate())+ 6)) SELECT date_format(DAY, '%Y-%m-%d') FROM day;\")\n",
        "day = cursor.fetchall()\n",
        "\n",
        "if len(keywords) == 0:\n",
        "  #이번주 데이터가 없을 시 지난주 데이터 추출\n",
        "  #DB keyword테이블에서 지난주 keyword별 언급량 합계 상위 5개의 keyword 추출\n",
        "  cursor.execute(\"SELECT keyword FROM keyword WHERE DATE(c_date) >= date_format(curdate() - INTERVAL 1 WEEK - WEEKDAY(curdate()), '%Y-%m-%d') AND DATE(c_date) <= date_format(curdate() - INTERVAL 1 WEEK + (6 - WEEKDAY(curdate())), '%Y-%m-%d') GROUP BY keyword ORDER BY SUM(weight) DESC LIMIT 5;\")\n",
        "  keywords = cursor.fetchall()\n",
        "  #지난주(월~일) 날짜 추출\n",
        "  cursor.execute(\"WITH RECURSIVE day AS (SELECT DATE(curdate() - INTERVAL 1 WEEK - WEEKDAY(curdate())) AS DAY UNION ALL SELECT DATE_ADD(DAY, INTERVAL 1 DAY) FROM day WHERE DAY < DATE(curdate() - INTERVAL 1 WEEK + (6 - WEEKDAY(curdate())))) SELECT date_format(DAY, '%Y-%m-%d') FROM day;\")\n",
        "  day = cursor.fetchall()\n",
        "\n",
        "weekly_chart = {}\n",
        "#DB keyword테이블에서 추출한 keywords의 일별 weight 추출\n",
        "for i in range(5):\n",
        "  weight = [0] * 7\n",
        "  no = 0\n",
        "  for d in day:\n",
        "    if d[0] == date:\n",
        "      break\n",
        "    else:\n",
        "      cursor.execute(f\"SELECT weight FROM keyword WHERE DATE(c_date) = '{d[0]}' AND keyword = '{keywords[i][0]}'\")\n",
        "      daily_weight = list(cursor.fetchall())\n",
        "      if daily_weight != []:\n",
        "        weight[no] = daily_weight[0][0]\n",
        "      no += 1\n",
        "  weekly_chart[keywords[i][0]] = weight\n",
        "print(weekly_chart)"
      ],
      "metadata": {
        "colab": {
          "base_uri": "https://localhost:8080/"
        },
        "id": "7FJfHbFiEtXQ",
        "outputId": "173fff8c-626b-4300-cd44-cced77ea4bbf"
      },
      "execution_count": 17,
      "outputs": [
        {
          "output_type": "stream",
          "name": "stdout",
          "text": [
            "{'우크라': [35, 31, 31, 0, 0, 0, 0], '러시아': [28, 29, 26, 0, 0, 0, 0], '확진': [8, 12, 21, 0, 0, 0, 0], '산불': [8, 26, 0, 0, 0, 0, 0], '대선': [8, 8, 15, 0, 0, 0, 0]}\n"
          ]
        }
      ]
    },
    {
      "cell_type": "markdown",
      "source": [
        "##monthly_chart"
      ],
      "metadata": {
        "id": "CFdw4bs5UWpE"
      }
    },
    {
      "cell_type": "code",
      "source": [
        "from datetime import datetime\n",
        "date = datetime.today().strftime(\"%Y-%m-%d\")\n",
        "\n",
        "#DB keyword테이블에서 이번주 keyword별 언급량 합계 상위 5개의 keyword 추출\n",
        "cursor.execute(\"SELECT keyword FROM keyword WHERE DATE(c_date) >= ADDDATE(curdate(), - WEEKDAY(curdate())) AND DATE(c_date) <= ADDDATE(curdate(), - WEEKDAY(curdate())+ 6) GROUP BY keyword ORDER BY SUM(weight) DESC LIMIT 5;\")\n",
        "keywords = cursor.fetchall()\n",
        "#이번달(1일~말일) 날짜 추출\n",
        "cursor.execute(\"WITH RECURSIVE day AS (SELECT DATE_SUB(curdate(), INTERVAL (DAY(curdate())-1) DAY) AS DAY UNION ALL SELECT DATE_ADD(DAY, INTERVAL 1 DAY) FROM day WHERE DAY < LAST_DAY(NOW()))SELECT date_format(DAY, '%Y-%m-%d') FROM day\")\n",
        "day = cursor.fetchall()\n",
        "\n",
        "if len(keywords) == 0:\n",
        "  #이번주 데이터가 없을 시 지난달 데이터 추출\n",
        "  #DB keyword테이블에서 지난달 keyword별 언급량 합계 상위 5개의 keyword 추출\n",
        "  cursor.execute(\"SELECT keyword FROM keyword WHERE DATE(c_date) >= ADDDATE(date_add(curdate(), interval -1 day), - WEEKDAY(date_add(curdate(), interval -1 day))) AND DATE(c_date) <= ADDDATE(date_add(curdate(), interval -1 day), - WEEKDAY(date_add(curdate(), interval -1 day))+ 6) GROUP BY keyword ORDER BY SUM(weight) DESC LIMIT 5;\")\n",
        "  keywords = cursor.fetchall()\n",
        "  #지난달(1일~말일) 날짜 추출\n",
        "  cursor.execute(\"WITH RECURSIVE day AS (SELECT DATE_SUB((curdate() - INTERVAL 1 MONTH), INTERVAL (DAY(curdate())-1) DAY) AS DAY UNION ALL SELECT DATE_ADD(DAY, INTERVAL 1 DAY) FROM day WHERE DAY < LAST_DAY((curdate() - INTERVAL 1 MONTH)))SELECT date_format(DAY, '%Y-%m-%d') FROM day;\")\n",
        "  day = cursor.fetchall()\n",
        "\n",
        "monthly_chart = {}\n",
        "\n",
        "#DB keyword테이블에서 추출한 keywords의 일별 weight 추출\n",
        "for i in range(5):\n",
        "  weight = [0] * int(day[-1][0][-2:])\n",
        "  for d in day:\n",
        "    if d[0] == date:\n",
        "      break\n",
        "    else:\n",
        "      #일별 추출한 keywords의 weight 추출\n",
        "      cursor.execute(f\"SELECT weight FROM keyword WHERE DATE(c_date) = '{d[0]}' AND keyword = '{keywords[i][0]}'\")\n",
        "      daily_weight = list(cursor.fetchall())\n",
        "      if daily_weight != []:\n",
        "        weight[int(d[0][-2:])-1] = daily_weight[0][0]\n",
        "  monthly_chart[keywords[i][0]] = weight\n",
        "print(weekly_chart)"
      ],
      "metadata": {
        "colab": {
          "base_uri": "https://localhost:8080/"
        },
        "id": "NUs6snaj0emM",
        "outputId": "2d05f816-0920-4eff-d456-e5dcbace8f55"
      },
      "execution_count": 18,
      "outputs": [
        {
          "output_type": "stream",
          "name": "stdout",
          "text": [
            "{'우크라': [35, 31, 31, 0, 0, 0, 0], '러시아': [28, 29, 26, 0, 0, 0, 0], '확진': [8, 12, 21, 0, 0, 0, 0], '산불': [8, 26, 0, 0, 0, 0, 0], '대선': [8, 8, 15, 0, 0, 0, 0]}\n"
          ]
        }
      ]
    },
    {
      "cell_type": "markdown",
      "source": [
        "''' 레이블은 레이블대로, 데이터는 데이터대로 리스트 파일에 담아야 차트에 바로 적용 가능 '''"
      ],
      "metadata": {
        "id": "nDLiGLA631RH"
      }
    },
    {
      "cell_type": "markdown",
      "source": [
        "##daily_twitter"
      ],
      "metadata": {
        "id": "Qa0OuJE5VXGT"
      }
    },
    {
      "cell_type": "code",
      "source": [
        "#DB keyword테이블에서 오늘 기준 키워드 카운트 순 상위 5개의 keyword 추출\n",
        "cursor.execute(\"SELECT keyword FROM keyword WHERE c_date = date(now()) ORDER BY weight DESC LIMIT 5;\")\n",
        "keywords = list(cursor.fetchall())\n",
        "if len(keywords) != 0:\n",
        "  #DB twitter테이블에서 추출한 keywords의 키워드, 리트윗 수, 좋아요 수, 해시태그 추출\n",
        "  cursor.execute(\"SELECT keyword_id, CAST(SUM(retweet) AS SIGNED), CAST(SUM(like_count) AS SIGNED), group_concat(DISTINCT(nullif(tags, 'empty'))) FROM twitter WHERE SUBSTR(keyword_id, 1, 8) = date(now()) GROUP BY keyword_id ORDER BY COUNT(keyword_id) DESC;\")\n",
        "  twitter = cursor.fetchall()\n",
        "else:\n",
        "  #오늘 정보 없을 시 어제 정보출력\n",
        "  cursor.execute(\"SELECT keyword FROM keyword WHERE c_date = date_add(curdate(), interval -1 day) ORDER BY weight DESC LIMIT 5;\")\n",
        "  keywords = list(cursor.fetchall())\n",
        "  cursor.execute(\"SELECT keyword_id, CAST(SUM(retweet) AS SIGNED), CAST(SUM(like_count) AS SIGNED), group_concat(DISTINCT(nullif(tags, 'empty'))) FROM twitter WHERE SUBSTR(keyword_id, 1, 8) = date_add(curdate(), interval -1 day) GROUP BY keyword_id ORDER BY COUNT(keyword_id) DESC;\")\n",
        "  twitter = cursor.fetchall()\n",
        "\n",
        "daily_twitter = {}\n",
        "no = 1\n",
        "while len(keywords) > 0:\n",
        "    word = keywords.pop(0)\n",
        "    for tweet in twitter:\n",
        "        if word[0] in tweet[0]:\n",
        "            daily_twitter[word[0]] = tweet[1:]\n",
        "    no += 1\n",
        "\n",
        "labels = []\n",
        "data = []\n",
        "\n",
        "for i in range(len(daily_twitter.keys())):\n",
        "    key = list(daily_twitter.keys())[i]\n",
        "    value = list(daily_twitter.values())[i]\n",
        "    value = list(value)\n",
        "    value.insert(0, key)\n",
        "    labels.append(i + 1)\n",
        "    data.append(value)\n",
        "\n",
        "print(labels)\n",
        "print(data)"
      ],
      "metadata": {
        "colab": {
          "base_uri": "https://localhost:8080/"
        },
        "id": "KCGKcmAvVGQK",
        "outputId": "6402eadd-a449-48aa-a08a-75496f0883d8"
      },
      "execution_count": 19,
      "outputs": [
        {
          "output_type": "stream",
          "name": "stdout",
          "text": [
            "[1, 2, 3, 4, 5]\n",
            "[['우크라', 183358, 29, 'KBS뉴스, KBS,윤석열, Ukraine, StopWar, StopPutin'], ['러시아', 267460, 150, 'SBS뉴스,더배트맨, TheBatman, 러시아'], ['확진', 187896, 1935, 'BTSARMY, BestFanArmy, iHeartAwards,SBS뉴스,전남도청, 재난문자,코로나19'], ['사망', 55784, 87, '산업재해, 인천, 경기일보,섹트, 디엠, 맘눌뎀, 직장씨발,코로나19'], ['대선', 67861, 4, '김동연, 정치개혁, 윤석열, 대선, 이재명,이재명_헬게이트, 윤석열에_투표하고_이재명을_응징하자']]\n"
          ]
        }
      ]
    },
    {
      "cell_type": "markdown",
      "source": [
        "##weekly_twitter"
      ],
      "metadata": {
        "id": "FAQZpuifVzuT"
      }
    },
    {
      "cell_type": "code",
      "source": [
        "#DB keyword테이블에서 이번주 keyword별 언급량 합계 상위 5개의 keyword 추출\n",
        "cursor.execute(\"SELECT keyword FROM keyword WHERE DATE(c_date) >= ADDDATE(curdate(), - WEEKDAY(curdate())) AND DATE(c_date) <= ADDDATE(curdate(), - WEEKDAY(curdate())+ 6) GROUP BY keyword ORDER BY SUM(weight) DESC LIMIT 5;\")\n",
        "keywords = list(cursor.fetchall())\n",
        "if len(keywords) != 0:\n",
        "  #DB twitter테이블에서 추출한 keywords의 키워드, 리트윗 수, 좋아요 수, 해시태그 모두 추출\n",
        "  cursor.execute(\"SELECT keyword_id, CAST(SUM(retweet) AS SIGNED), CAST(SUM(like_count) AS SIGNED), group_concat(DISTINCT(nullif(tags, 'empty'))) FROM twitter WHERE SUBSTR(keyword_id, 1, 8) >= ADDDATE(curdate(), - WEEKDAY(curdate())) AND SUBSTR(keyword_id, 1, 8) <= ADDDATE(curdate(), - WEEKDAY(curdate())+ 6) GROUP BY keyword_id ORDER BY COUNT(keyword_id) DESC;\")\n",
        "  twitter = cursor.fetchall()\n",
        "else:\n",
        "  #이번주 정보 없을 시 지난주 정보출력\n",
        "  cursor.execute(\"SELECT keyword FROM keyword WHERE DATE(c_date) >= date_format(curdate() - INTERVAL 1 WEEK - WEEKDAY(curdate()), '%Y-%m-%d') AND DATE(c_date) <= date_format(curdate() - INTERVAL 1 WEEK + (6 - WEEKDAY(curdate())), '%Y-%m-%d') GROUP BY keyword ORDER BY SUM(weight) DESC LIMIT 5;\")\n",
        "  keywords = list(cursor.fetchall())\n",
        "  cursor.execute(\"SELECT keyword_id, CAST(SUM(retweet) AS SIGNED), CAST(SUM(like_count) AS SIGNED), group_concat(DISTINCT(nullif(tags, 'empty'))) FROM twitter WHERE SUBSTR(keyword_id, 1, 8) >= date_format(curdate() - INTERVAL 1 WEEK - WEEKDAY(curdate()), '%y-%m-%d') AND SUBSTR(keyword_id, 1, 8) <= date_format(curdate() - INTERVAL 1 WEEK + (6 - WEEKDAY(curdate())), '%y-%m-%d') GROUP BY keyword_id ORDER BY COUNT(keyword_id) DESC;\")\n",
        "  twitter = cursor.fetchall()\n",
        "\n",
        "#twitter테이블에서 추출한 정보 keyword별로 합치기\n",
        "weekly_twitter = {}\n",
        "for i in keywords:\n",
        "  weekly_twitter[i[0]] = [0, 0, '']\n",
        "no = 1\n",
        "while len(keywords) > 0:\n",
        "    word = keywords.pop(0)\n",
        "    for tweet in twitter:\n",
        "        if word[0] in tweet[0]:\n",
        "            weekly_twitter[word[0]][0] += tweet[1]\n",
        "            weekly_twitter[word[0]][1] += tweet[2]\n",
        "            if tweet[3] != None: #예외처리: 해시태그가 NULL일 경우 오류발생\n",
        "              weekly_twitter[word[0]][2] += tweet[3]\n",
        "    no += 1\n",
        "print(weekly_twitter)"
      ],
      "metadata": {
        "colab": {
          "base_uri": "https://localhost:8080/"
        },
        "id": "GobhU9hQVz1V",
        "outputId": "c572a2ce-41c8-4f53-90c1-8e6f59e9662c"
      },
      "execution_count": 20,
      "outputs": [
        {
          "output_type": "stream",
          "name": "stdout",
          "text": [
            "{'우크라': [234539, 129, 'KBS뉴스, KBS,윤석열, Ukraine, StopWar, StopPutinSBS뉴스,오늘의신문_스크랩SBS뉴스,우크라이나, 러시아, 정전협상, 평화협상, 회담'], '러시아': [730091, 338, 'SBS뉴스,더배트맨, TheBatman, 러시아레이시즘_퍼레이드,삼일절, 독립운동, 대한민국만세PrayForUkraine,SBS뉴스'], '확진': [187896, 1935, 'BTSARMY, BestFanArmy, iHeartAwards,SBS뉴스,전남도청, 재난문자,코로나19'], '산불': [95147, 37, '2022산불상황,mbc,SBS뉴스,조건만남'], '대선': [67861, 4, '김동연, 정치개혁, 윤석열, 대선, 이재명,이재명_헬게이트, 윤석열에_투표하고_이재명을_응징하자']}\n"
          ]
        }
      ]
    },
    {
      "cell_type": "markdown",
      "source": [
        "##monthly_twitter"
      ],
      "metadata": {
        "id": "oR8S64NAWDEd"
      }
    },
    {
      "cell_type": "code",
      "source": [
        "# #DB keyword테이블에서 이번달 keyword별 언급량 합계 상위 5개의 keyword 추출\n",
        "cursor.execute(\"SELECT keyword FROM keyword WHERE DATE(c_date) >= DATE_SUB(curdate(), INTERVAL (DAY(curdate())-1) DAY) AND DATE(c_date) <= LAST_DAY(NOW()) GROUP BY keyword ORDER BY SUM(weight) DESC LIMIT 5;\")\n",
        "keywords = list(cursor.fetchall())\n",
        "if len(keywords) != 0:\n",
        "  #DB twitter테이블에서 추출한 keywords의 키워드, 리트윗 수, 좋아요 수, 해시태그 모두 추출\n",
        "  cursor.execute(\"SELECT keyword_id, CAST(SUM(retweet) AS SIGNED), CAST(SUM(like_count) AS SIGNED), group_concat(DISTINCT(nullif(tags, 'empty'))) FROM twitter WHERE SUBSTR(keyword_id, 1, 8) >= DATE_SUB(curdate(), INTERVAL (DAY(curdate())-1) DAY) AND SUBSTR(keyword_id, 1, 8) <= LAST_DAY(NOW()) GROUP BY keyword_id ORDER BY COUNT(keyword_id) DESC;\")\n",
        "  twitter = cursor.fetchall()\n",
        "else:\n",
        "  #이번달 정보 없을 시 지난달 정보 출력\n",
        "  cursor.execute(\"SELECT keyword FROM keyword WHERE date_format(c_date, '%Y-%m') = date_format((curdate() - INTERVAL 1 MONTH), '%Y-%m') GROUP BY keyword ORDER BY SUM(weight) DESC LIMIT 5;\")\n",
        "  keywords = list(cursor.fetchall())\n",
        "  cursor.execute(\"SELECT keyword_id, CAST(SUM(retweet) AS SIGNED), CAST(SUM(like_count) AS SIGNED), group_concat(DISTINCT(nullif(tags, 'empty'))) FROM twitter WHERE SUBSTR(keyword_id, 1, 5) = date_format((curdate() - INTERVAL 1 MONTH), '%y-%m') GROUP BY keyword_id ORDER BY COUNT(keyword_id) DESC;\")\n",
        "  twitter = cursor.fetchall()\n",
        "\n",
        "#twitter테이블에서 추출한 정보 keyword별로 합치기\n",
        "monthly_twitter = {}\n",
        "for i in keywords:\n",
        "  monthly_twitter[i[0]] = [0, 0, '']\n",
        "\n",
        "no = 1\n",
        "while len(keywords) > 0:\n",
        "    word = keywords.pop(0)\n",
        "    for tweet in twitter:\n",
        "        if word[0] in tweet[0]:\n",
        "            monthly_twitter[word[0]][0] += tweet[1]\n",
        "            monthly_twitter[word[0]][1] += tweet[2]\n",
        "            if tweet[3] != None:  #예외처리: 해시태그가 NULL일 경우 오류발생\n",
        "              monthly_twitter[word[0]][2] += tweet[3]\n",
        "    no += 1\n",
        "print(monthly_twitter)"
      ],
      "metadata": {
        "colab": {
          "base_uri": "https://localhost:8080/"
        },
        "id": "0XJGOK-iWDJS",
        "outputId": "d4575ad9-c700-4468-c576-4fa420423610"
      },
      "execution_count": 22,
      "outputs": [
        {
          "output_type": "stream",
          "name": "stdout",
          "text": [
            "{'우크라': [191009, 86, 'KBS뉴스, KBS,윤석열, Ukraine, StopWar, StopPutinSBS뉴스,오늘의신문_스크랩'], '러시아': [472167, 183, 'SBS뉴스,더배트맨, TheBatman, 러시아레이시즘_퍼레이드,삼일절, 독립운동, 대한민국만세'], '확진': [187896, 1935, 'BTSARMY, BestFanArmy, iHeartAwards,SBS뉴스,전남도청, 재난문자,코로나19'], '푸틴': [936612, 139, 'Небензя, России, ДНР, ЛНР, Донбасса, Украины,코리안싸이코, 푸틴'], '산불': [95147, 37, '2022산불상황,mbc,SBS뉴스,조건만남']}\n"
          ]
        }
      ]
    },
    {
      "cell_type": "markdown",
      "source": [
        "##daily_youtube"
      ],
      "metadata": {
        "id": "fjR8nJPRj8ek"
      }
    },
    {
      "cell_type": "code",
      "source": [
        "#DB keyword테이블에서 오늘 기준 키워드 카운트 순 상위 5개의 keyword 추출\n",
        "cursor.execute(\"SELECT keyword FROM keyword WHERE c_date = date(now()) ORDER BY weight DESC LIMIT 5;\")\n",
        "keywords = list(cursor.fetchall())\n",
        "if len(keywords) != 0:\n",
        "  #DB youtube테이블에서 추출한 keywords의 키워드, 조회수, 좋아요 수, 댓글 수, 해시태그 모두 추출\n",
        "  cursor.execute(\"SELECT keyword_id, CAST(SUM(view_count) AS SIGNED), CAST(SUM(like_count) AS SIGNED), CAST(SUM(comment_count) AS SIGNED), group_concat(tags) FROM youtube WHERE SUBSTR(keyword_id, 1, 8) = curdate() GROUP BY keyword_id ORDER BY COUNT(keyword_id) DESC;\")\n",
        "  youtube = cursor.fetchall()\n",
        "else:\n",
        "  #오늘 정보 없을 시 어제 정보 출력\n",
        "  cursor.execute(\"SELECT keyword FROM keyword WHERE c_date = date_add(curdate(), interval -1 day) ORDER BY weight DESC LIMIT 5;\")\n",
        "  keywords = list(cursor.fetchall())\n",
        "  cursor.execute(\"SELECT keyword_id, CAST(SUM(view_count) AS SIGNED), CAST(SUM(like_count) AS SIGNED), CAST(SUM(comment_count) AS SIGNED), group_concat(tags) FROM youtube WHERE SUBSTR(keyword_id, 1, 8) = date_add(curdate(), interval -1 day) GROUP BY keyword_id ORDER BY COUNT(keyword_id) DESC;\")\n",
        "  youtube = cursor.fetchall()\n",
        "\n",
        "daily_youtube = {}\n",
        "no = 1\n",
        "while len(keywords) > 0:\n",
        "    word = keywords.pop(0)\n",
        "    for data in youtube:\n",
        "        if word[0] in data[0]:\n",
        "            daily_youtube[word[0]] = data[1:]\n",
        "    no += 1\n",
        "print(daily_youtube)"
      ],
      "metadata": {
        "colab": {
          "base_uri": "https://localhost:8080/"
        },
        "id": "teFuYj94j8md",
        "outputId": "8dd55880-e27c-4c6c-d9ec-8f2140393cb8"
      },
      "execution_count": 23,
      "outputs": [
        {
          "output_type": "stream",
          "name": "stdout",
          "text": [
            "{'우크라': (14154355, 128226, 36570, '러시아, 우크라이나, 전쟁,format:기타, siries:SBS NEWS, siries:SBS 뉴스, siries:에스비에스 뉴스, station:SBS, station:SEOUL BROADCASTING SYSTEM, station:서울 방송, station:에스비에스, type:KOREA NEWS, type:Korean News, type:News, type:News Network, type:뉴스, type:대한민국 뉴스, type:방송, yt:cc=on, 러시아, 발견 즉시 덮어라, 백신, 어린이, 우크라, 접종, 화이자,source:영상, type:디지털, genre:정치, format:기타, series:자막뉴스, 이재명, 윤석열, 우크라이나, 러시아, 침공,MBC, MBC뉴스, 뉴스데스크, newsdesk, 뉴스투데이, newstoday, 8시뉴스, 아침뉴스, 뉴스, 정오뉴스, news, 미국, 러시아, 우크라이나, 젤렌스키,연합뉴스, yonhapnews, 뉴스, 영상, 이슈, 디지털, news, 화제, 머스크, 일론머스크, 테슬라, 우크라이나, 전쟁,연합뉴스, yonhapnews, 뉴스, 영상, 이슈, 디지털, news, 화제, 우크라이나, 러시아, 전쟁, 포로, 러시아군, 군인, 푸틴, '), '러시아': (40165579, 279599, 53143, '군병원, 러 공수부대, 방송국,Article, NATO, Russia, U.S., Ukraine, War, allies, attack, civilian, forces, invasion, involvement, missiles, p_cmsid=2494279, p_vid=news-83186264, targets, troops,러시아군, 진격, 포위전,러시아, 우크라이나, 전쟁,MBC, MBC뉴스, 뉴스데스크, newsdesk, 뉴스투데이, newstoday, 8시뉴스, 아침뉴스, 뉴스, 정오뉴스, news, 전쟁, 러시아, Kyiv, Ukraine, Livecam, Russia, Putin, 우크라이나, 키이우, 하르키우, 루한시크, 크름반도, 드니프로, 체르느히우,source:영상, type:방송, genre:국제, format:기타, person:방병삼,JTBC, JTBC NEWS, 뉴스, 뉴스룸, 손석희, newsroom, sohnsukhee, 제이티비씨, 제이티비씨 뉴스, ㅓ슟, 제이티비시, 제이티비시 뉴스, 안나경, 한민용, 오대영,latest News, Happening Now, CNN, world news, cnni, cnn international, alex marquardt, michael holmes,KBS, KBS 뉴스5, kbs news, kbs 뉴스, kbs뉴스, 교전, 뉴스, 뉴스5, 러시아군, 우크라이나'), '확진': (2485659, 33879, 9804, '자가격리, 3월1일, 자가격리기준, 확진자격리, 확진자가족, 자가격리기준변경, 보건복지부, 질병관리청, 자가격리방법, 자가격리일수, 자가격리 브이로그, 자가격리 지원금, 자가격리 할만한거, 자가격리 확진, 확진자 밀접접촉자, 확진자 가족 자가격리, 확진자가족 자가격리, 확진자가족 음성, 확진자가족검사, 격리일지, 격리일상, 격리실 기준, 희망찬병원 김진균, 희망찬병원 건강검진, 희망찬병원 허일, 털보의사 김진균, 털보의사, 김진균원장, 김진균의사, 털보의사김진균, 희망찬병원털보의사, 코로나19 항원 자가 검사, 코로나19 자가검사키트 사용법, 코로나19 자가검사키트, 보건소 pcr검사, 보건소 신속항원검사, 보건소 공무원, 비온뒤 의학채널, 비온뒤 함익병, 비온뒤 홍혜걸 여에스더, 굿라이프 이경석, 굿라이프 허리, 굿라이프 송영민,empty,MBC, MBC뉴스, 뉴스데스'), '사망': (2308180, 24560, 9400, 'JTBC, JTBC NEWS, 뉴스, 뉴스룸, 손석희, newsroom, sohnsukhee, 제이티비씨, 제이티비씨 뉴스, ㅓ슟, 제이티비시, 제이티비시 뉴스, 안나경, 한민용, 오대영, 시속 252km, 스포츠카 동호회, 질주, 과속 사고,러시아, 민간인피해, 우크라이나,탐사보도, 진실, 뉴스타파, 비영리, 뉴스, 보도, 언론, 독립언론, 독립,민간인, 사망, 푸틴,MBC, MBC뉴스, 뉴스데스크, newsdesk, 뉴스투데이, newstoday, 8시뉴스, 아침뉴스, 뉴스, 정오뉴스, news, 베트남, 유람선, 전복,MBC, MBC뉴스, 뉴스데스크, newsdesk, 뉴스투데이, newstoday, 8시뉴스, 아침뉴스, 뉴스, 정오뉴스, news, 코로나19, 자영업자, 오미크론,137명 사망, format:기타, siries:SBS NEWS, siries:SBS 뉴스, siries:에스비에스 뉴스, station:SBS, station:SEOUL BROADCASTING SYSTEM, station:서울 방송, station:에스비에스, type:KOREA NEWS, type:Korean News, type:News, type:News Network, type:뉴스, type:대한민국 '), '대선': (9238094, 148525, 80714, 'KBS, KBS 뉴스9, kbs news, kbs 뉴스, kbs뉴스, 고도, 뉴스, 뉴스9, 대선, 도발, 러시아, 변수, 손서영, 억지, 우크라이나, 정착, 진단, 침공, 평화, 한반도, 해법, 후보,김현정, 홍익표, 하태경, 권성동, 정청래, 판도라, 이재명, 윤석열, 안철수, 뉴스쇼, TV토론, 20대대선, 대통령,source:영상, type:방송, genre:정치, format:기타, series:나이트포커스, topic:2022대선, person:배선영,MBC, MBC뉴스, 뉴스데스크, newsdesk, 뉴스투데이, newstoday, 8시뉴스, 아침뉴스, 뉴스, 정오뉴스, news, 930뉴스, 12시뉴스, 930, 12시,source:영상, type:방송, genre:정치, format:기타, topic:2022대선,MBN, MBNNEWS, MBN종합뉴스, 김주하, 박자은, 대선, 여론조사, 이재명, 윤석열,SBS NEWS, SBS뉴스, sbs뉴스, sbs8뉴스, 에스비에스, sbs 뉴스, SBS, 실시간, sbs 실시간, SBS 8뉴스, SBS 8시뉴스, SBS LIVE, sbs live, sbs 생중계, sbs 온에어, SBS 모닝와이드, sbs모바일24, 모바')}\n"
          ]
        }
      ]
    },
    {
      "cell_type": "markdown",
      "source": [
        "##weekly_youtube"
      ],
      "metadata": {
        "id": "qrdfxmgokP7L"
      }
    },
    {
      "cell_type": "code",
      "source": [
        "#DB keyword테이블에서 이번주 keyword별 언급량 합계 상위 5개의 keyword 추출\n",
        "cursor.execute(\"SELECT keyword FROM keyword WHERE DATE(c_date) >= ADDDATE(curdate(), - WEEKDAY(curdate())) AND DATE(c_date) <= ADDDATE(curdate(), - WEEKDAY(curdate())+ 6) GROUP BY keyword ORDER BY SUM(weight) DESC LIMIT 5;\")\n",
        "keywords = list(cursor.fetchall())\n",
        "if len(keywords) != 0:\n",
        "  #DB youtube테이블에서 추출한 keywords의 키워드, 조회수, 좋아요 수, 댓글 수, 해시태그 모두 추출\n",
        "  cursor.execute(\"SELECT keyword_id, CAST(SUM(view_count) AS SIGNED), CAST(SUM(like_count) AS SIGNED), CAST(SUM(comment_count) AS SIGNED), group_concat(tags) FROM youtube WHERE SUBSTR(keyword_id, 1, 8) >= ADDDATE(curdate(), - WEEKDAY(curdate())) AND SUBSTR(keyword_id, 1, 8) <= ADDDATE(curdate(), - WEEKDAY(curdate())+ 6) GROUP BY keyword_id ORDER BY COUNT(keyword_id) DESC;\")\n",
        "  youtube = cursor.fetchall()\n",
        "else:\n",
        "  #이번주 정보 없을 시 지난주 정보 출력\n",
        "  cursor.execute(\"SELECT keyword FROM keyword WHERE DATE(c_date) >= date_format(curdate() - INTERVAL 1 WEEK - WEEKDAY(curdate()), '%Y-%m-%d') AND DATE(c_date) <= date_format(curdate() - INTERVAL 1 WEEK + (6 - WEEKDAY(curdate())), '%Y-%m-%d') GROUP BY keyword ORDER BY SUM(weight) DESC LIMIT 5;\")\n",
        "  keywords = list(cursor.fetchall())  \n",
        "  cursor.execute(\"SELECT keyword_id, CAST(SUM(view_count) AS SIGNED), CAST(SUM(like_count) AS SIGNED), CAST(SUM(comment_count) AS SIGNED), group_concat(tags) FROM youtube WHERE SUBSTR(keyword_id, 1, 8) >= date_format(curdate() - INTERVAL 1 WEEK - WEEKDAY(curdate()), '%y-%m-%d') AND SUBSTR(keyword_id, 1, 8) <= date_format(curdate() - INTERVAL 1 WEEK + (6 - WEEKDAY(curdate())), '%y-%m-%d') GROUP BY keyword_id ORDER BY COUNT(keyword_id) DESC;\")\n",
        "  youtube = cursor.fetchall()\n",
        "\n",
        "#youtube테이블에서 추출한 정보 keyword별로 합치기\n",
        "weekly_youtube = {}\n",
        "for i in keywords:\n",
        "  weekly_youtube[i[0]] = [0, 0, 0, '']\n",
        "no = 1\n",
        "while len(keywords) > 0:\n",
        "    word = keywords.pop(0)\n",
        "    for data in youtube:\n",
        "        if word[0] in data[0]:\n",
        "            weekly_youtube[word[0]][0] += data[1]\n",
        "            weekly_youtube[word[0]][1] += data[2]\n",
        "            weekly_youtube[word[0]][2] += data[3]\n",
        "            if data[4] != None:  #예외처리: 해시태그가 NULL일 경우 오류발생\n",
        "              weekly_youtube[word[0]][3] += data[4]\n",
        "    no += 1\n",
        "print(weekly_youtube)"
      ],
      "metadata": {
        "colab": {
          "base_uri": "https://localhost:8080/"
        },
        "id": "bggp-cP7kQCD",
        "outputId": "3040ea69-0419-46ec-f81b-bccfb14bad8d"
      },
      "execution_count": 24,
      "outputs": [
        {
          "output_type": "stream",
          "name": "stdout",
          "text": [
            "{'우크라': [35606865, 325298, 106173, '러시아, 우크라이나, 전쟁,format:기타, siries:SBS NEWS, siries:SBS 뉴스, siries:에스비에스 뉴스, station:SBS, station:SEOUL BROADCASTING SYSTEM, station:서울 방송, station:에스비에스, type:KOREA NEWS, type:Korean News, type:News, type:News Network, type:뉴스, type:대한민국 뉴스, type:방송, yt:cc=on, 러시아, 발견 즉시 덮어라, 백신, 어린이, 우크라, 접종, 화이자,source:영상, type:디지털, genre:정치, format:기타, series:자막뉴스, 이재명, 윤석열, 우크라이나, 러시아, 침공,MBC, MBC뉴스, 뉴스데스크, newsdesk, 뉴스투데이, newstoday, 8시뉴스, 아침뉴스, 뉴스, 정오뉴스, news, 미국, 러시아, 우크라이나, 젤렌스키,연합뉴스, yonhapnews, 뉴스, 영상, 이슈, 디지털, news, 화제, 머스크, 일론머스크, 테슬라, 우크라이나, 전쟁,연합뉴스, yonhapnews, 뉴스, 영상, 이슈, 디지털, news, 화제, 우크라이나, 러시아, 전쟁, 포로, 러시아군, 군인, 푸틴, source:영상, type:방송, genre:국제, format:기타, person:한연희,format:기타, siries:SBS NEWS, siries:SBS 뉴스, siries:에스비에스 뉴스, station:SBS, station:SEOUL BROADCASTING SYSTEM, station:서울 방송, station:에스비에스, type:KOREA NEWS, type:Korean News, type:News, type:News Network, type:뉴스, type:대한민국 뉴스, type:방송, yt:cc=on, 대통령, 러시아, 바실렌코, 우크라, 의원,러시아, 우크라이나, 푸틴,MBN, 굿모닝 MBN, MBN뉴스, 우크라이나 침공, 러시아, 우크라이나, 키예프, 우크라이나 사망자, 벨라루스, 하르키우, 유럽연합, EU, 피란민, 러시아 우크라이나 회담, 젤렌스키 대통령, 폴란드, 신변 안전, 우크라이나 민간인 사망,연합뉴스, yonhapnews, 뉴스, 영상, 이슈, 디지털, news, 화제, 우크라이나, 러시아, 전쟁, 탱크, 미사일,format:기타, siries:SBS NEWS, siries:SBS 뉴스, siries:에스비에스 뉴스, station:SBS, station:SEOUL BROADCASTING SYSTEM, stsource:영상, type:방송, genre:사회, format:기타, person:박기완,source:영상, type:방송, genre:국제, format:인터뷰, person:호준석,source:영상, type:방송, genre:국제, format:기타,JTBC, JTBC NEWS, 뉴스, 뉴스룸, 손석희, newsroom, sohnsukhee, 제이티비씨, 제이티비씨 뉴스, ㅓ슟, 제이티비시, 제이티비시 뉴스, 안나경, 한민용, 오대영,YTN실시간, YTN, 우크라이나, 미국, 러시아, 영국, 사이버공격, 비상사태,SBSBiz, 경제, 뉴스,source:영상, type:방송, genre:국제, format:기타, person:구수본,MBC, MBC뉴스, 뉴스데스크, newsdesk, 뉴스투데이, newstoday, 8시뉴스, 아침뉴스, 뉴스, 정오뉴스, news, 러시아, 우크라이나, 키예프, 전쟁, 블라디미르 푸틴, 볼로디미르 젤렌스키,MBC, MBC뉴스, 뉴스데스크, newsdesk, 뉴스투데이, newstoday, 8시뉴스, 아침뉴스, 뉴스, 정오뉴스, news, 볼로디미르 젤렌스키, 우크라이나, 러시아, 블라디미르 푸틴,sourc'], '러시아': [104296926, 700728, 121933, '군병원, 러 공수부대, 방송국,Article, NATO, Russia, U.S., Ukraine, War, allies, attack, civilian, forces, invasion, involvement, missiles, p_cmsid=2494279, p_vid=news-83186264, targets, troops,러시아군, 진격, 포위전,러시아, 우크라이나, 전쟁,MBC, MBC뉴스, 뉴스데스크, newsdesk, 뉴스투데이, newstoday, 8시뉴스, 아침뉴스, 뉴스, 정오뉴스, news, 전쟁, 러시아, Kyiv, Ukraine, Livecam, Russia, Putin, 우크라이나, 키이우, 하르키우, 루한시크, 크름반도, 드니프로, 체르느히우,source:영상, type:방송, genre:국제, format:기타, person:방병삼,JTBC, JTBC NEWS, 뉴스, 뉴스룸, 손석희, newsroom, sohnsukhee, 제이티비씨, 제이티비씨 뉴스, ㅓ슟, 제이티비시, 제이티비시 뉴스, 안나경, 한민용, 오대영,latest News, Happening Now, CNN, world news, cnni, cnn international, alex marquardt, michael holmes,KBS, KBS 뉴스5, kbs news, kbs 뉴스, kbs뉴스, 교전, 뉴스, 뉴스5, 러시아군, 우크라이나MBC, MBC뉴스, 뉴스데스크, newsdesk, 뉴스투데이, newstoday, 8시뉴스, 아침뉴스, 뉴스, 정오뉴스, news, 우크라이나, 키예프, 전쟁, 러시아, Kyiv, Ukraine, Livecam, Russia, Putin,러시아, 북한, 정부제재,russia ukraine conflict live, ukraine news live, russia ukraine conflict live updates, russia ukraine war live, ukraine russia conflict, russia ukraine war, russian ukraine war news live, english news, wion news, russian ukraine war live updates, russia ukraine live news, ukraine russia live news, wion live, russian ukraine news live update, ukraine russia war, english news live, wion, breaking news live, ukraine, ukraine vs russia, russia, live news, live, ukraine russia, WION,latest News, Happening Now, CNN, world news, cnni, cnn international, alex marquardt, michael holmes,Russia, Ukraine, abc, crisis, day, forces, invasion, kyiv, live, lviv, news, p_cmsid=2494279, p_vid=news-83132923, refugees, sanctions, three, udpate,format:기타, siries:SBS NEWS, siries:SBS 뉴금융, 제재, 핵폭탄,MBC, MBC뉴스, 뉴스데스크, newsdesk, 뉴스투데이, newstoday, 8시뉴스, 아침뉴스, 뉴스, 정오뉴스, news, 우크라이나, 키예프, 전쟁, 러시아, Kyiv, Ukraine, Livecam, Russia, Putin,슈카, 슈카월드, 경제, 시사, 이슈, 뉴스, 상식, 면접, 논술, 자소서, 취업, 주식, 증시, 주가, 시장, 자산, 투자, 금리,source:영상, type:방송, genre:국제, format:기타, person:김원배,source:영상, type:방송, genre:국제, format:리포트, person:기정훈,KOREA NEWS, Korean News, News Network, SBS, SBS NEWS, SBS 뉴스, SEOUL BROADCASTING SYSTEM, yt:cc=on, 경찰, 국가, 대통령, 대한민국 뉴스, 러시아, 서울 방송, 에스비에스, 에스비에스 뉴스, 원전, 전쟁, 체르노빌,latest News, Happening Now, CNN, world news, cnni, cnn international, alex marquardt, michael holmes,source:영상, type:디지털, genre:국제, format:기타, series:자막뉴스, 우크라이나사태, 러시아전쟁, 중국, 세계3'], '확진': [2485659, 33879, 9804, '자가격리, 3월1일, 자가격리기준, 확진자격리, 확진자가족, 자가격리기준변경, 보건복지부, 질병관리청, 자가격리방법, 자가격리일수, 자가격리 브이로그, 자가격리 지원금, 자가격리 할만한거, 자가격리 확진, 확진자 밀접접촉자, 확진자 가족 자가격리, 확진자가족 자가격리, 확진자가족 음성, 확진자가족검사, 격리일지, 격리일상, 격리실 기준, 희망찬병원 김진균, 희망찬병원 건강검진, 희망찬병원 허일, 털보의사 김진균, 털보의사, 김진균원장, 김진균의사, 털보의사김진균, 희망찬병원털보의사, 코로나19 항원 자가 검사, 코로나19 자가검사키트 사용법, 코로나19 자가검사키트, 보건소 pcr검사, 보건소 신속항원검사, 보건소 공무원, 비온뒤 의학채널, 비온뒤 함익병, 비온뒤 홍혜걸 여에스더, 굿라이프 이경석, 굿라이프 허리, 굿라이프 송영민,empty,MBC, MBC뉴스, 뉴스데스'], '산불': [218902, 2363, 465, '28, format:기타, siries:SBS NEWS, siries:SBS 뉴스, siries:에스비에스 뉴스, station:SBS, station:SEOUL BROADCASTING SYSTEM, station:서울 방송, station:에스비에스, type:KOREA NEWS, type:Korean News, type:News, type:News Network, type:뉴스, type:대한민국 뉴스, type:방송, yt:cc=on, 날씨, 산불, 전국, 축구장, 합천,MBN, MBN뉴스, 굿모닝MBN, MBNNEWS, 경남, 합천, 산불, 산불진화,산불, 진화, 합천,건조특보, 추위, 출근길,MBC, MBC뉴스, 뉴스데스크, newsdesk, 뉴스투데이, newstoday, 8시뉴스, 아침뉴스, 뉴스, 정오뉴스, news, 경남, 합천, 산불,format:기타, siries:SBS NEWS, siries:SBS 뉴스, siries:에스비에스 뉴스, station:SBS, station:SEOUL BROADCASTING SYSTEM, station:서울 방송, station:에스비에스, type:KOREA NEWS, type:Korean News, type:News, type:News Network, type:뉴스, type:대한민국 뉴스, type:방송, yt:cc=on, 경남, 경북, 날씨, 대구, 산불, 화재,MBC, MBC뉴스, 뉴스데스크, newsdesk,'], '대선': [9238094, 148525, 80714, 'KBS, KBS 뉴스9, kbs news, kbs 뉴스, kbs뉴스, 고도, 뉴스, 뉴스9, 대선, 도발, 러시아, 변수, 손서영, 억지, 우크라이나, 정착, 진단, 침공, 평화, 한반도, 해법, 후보,김현정, 홍익표, 하태경, 권성동, 정청래, 판도라, 이재명, 윤석열, 안철수, 뉴스쇼, TV토론, 20대대선, 대통령,source:영상, type:방송, genre:정치, format:기타, series:나이트포커스, topic:2022대선, person:배선영,MBC, MBC뉴스, 뉴스데스크, newsdesk, 뉴스투데이, newstoday, 8시뉴스, 아침뉴스, 뉴스, 정오뉴스, news, 930뉴스, 12시뉴스, 930, 12시,source:영상, type:방송, genre:정치, format:기타, topic:2022대선,MBN, MBNNEWS, MBN종합뉴스, 김주하, 박자은, 대선, 여론조사, 이재명, 윤석열,SBS NEWS, SBS뉴스, sbs뉴스, sbs8뉴스, 에스비에스, sbs 뉴스, SBS, 실시간, sbs 실시간, SBS 8뉴스, SBS 8시뉴스, SBS LIVE, sbs live, sbs 생중계, sbs 온에어, SBS 모닝와이드, sbs모바일24, 모바']}\n"
          ]
        }
      ]
    },
    {
      "cell_type": "markdown",
      "source": [
        "##monthly_youtube"
      ],
      "metadata": {
        "id": "oUdA3kMyqhq1"
      }
    },
    {
      "cell_type": "code",
      "source": [
        "#DB keyword테이블에서 이번달 keyword별 언급량 합계 상위 5개의 keyword 추출\n",
        "cursor.execute(\"SELECT keyword FROM keyword WHERE DATE(c_date) >= DATE_SUB(curdate(), INTERVAL (DAY(curdate())-1) DAY) AND DATE(c_date) <= LAST_DAY(NOW()) GROUP BY keyword ORDER BY SUM(weight) DESC LIMIT 5;\")\n",
        "keywords = list(cursor.fetchall())\n",
        "if len(keywords) != 0:\n",
        "  #DB youtube테이블에서 추출한 keywords의 키워드, 조회수, 좋아요 수, 댓글 수, 해시태그 모두 추출\n",
        "  cursor.execute(\"SELECT keyword_id, CAST(SUM(view_count) AS SIGNED), CAST(SUM(like_count) AS SIGNED), CAST(SUM(comment_count) AS SIGNED), group_concat(tags) FROM youtube  WHERE SUBSTR(keyword_id, 1, 8) >= DATE_SUB(curdate(), INTERVAL (DAY(curdate())-1) DAY) AND SUBSTR(keyword_id, 1, 8) <= LAST_DAY(NOW()) GROUP BY keyword_id ORDER BY COUNT(keyword_id) DESC;\")\n",
        "  youtube = cursor.fetchall()\n",
        "else:\n",
        "  #이번달 정보 없을 시 지난주 정보 출력\n",
        "  cursor.execute(\"SELECT keyword FROM keyword WHERE date_format(c_date, '%Y-%m') = date_format((curdate() - INTERVAL 1 MONTH), '%Y-%m') GROUP BY keyword ORDER BY SUM(weight) DESC LIMIT 5;\")\n",
        "  keywords = list(cursor.fetchall()) \n",
        "  cursor.execute(\"SELECT keyword_id, CAST(SUM(view_count) AS SIGNED), CAST(SUM(like_count) AS SIGNED), CAST(SUM(comment_count) AS SIGNED), group_concat(tags) FROM youtube  WHERE SUBSTR(keyword_id, 1, 5) = date_format((curdate() - INTERVAL 1 MONTH), '%y-%m') GROUP BY keyword_id ORDER BY COUNT(keyword_id) DESC;\")\n",
        "  youtube = cursor.fetchall() \n",
        "\n",
        "#youtube테이블에서 추출한 정보 keyword별로 합치기\n",
        "monthly_youtube = {}\n",
        "for i in keywords:\n",
        "  monthly_youtube[i[0]] = [0, 0, 0, '']\n",
        "no = 1\n",
        "while len(keywords) > 0:\n",
        "    word = keywords.pop(0)\n",
        "    for data in youtube:\n",
        "        if word[0] in data[0]:\n",
        "            monthly_youtube[word[0]][0] += data[1]\n",
        "            monthly_youtube[word[0]][1] += data[2]\n",
        "            monthly_youtube[word[0]][2] += data[3]\n",
        "            if data[4] != None:  #예외처리: 해시태그가 NULL일 경우 오류발생\n",
        "              monthly_youtube[word[0]][3] += data[4]\n",
        "    no += 1\n",
        "print(monthly_youtube)"
      ],
      "metadata": {
        "colab": {
          "base_uri": "https://localhost:8080/"
        },
        "id": "nOvGsncnqhwE",
        "outputId": "d55efa57-9e9e-4b19-b624-0660881967a7"
      },
      "execution_count": 25,
      "outputs": [
        {
          "output_type": "stream",
          "name": "stdout",
          "text": [
            "{'우크라': [27357404, 253096, 73915, '러시아, 우크라이나, 전쟁,format:기타, siries:SBS NEWS, siries:SBS 뉴스, siries:에스비에스 뉴스, station:SBS, station:SEOUL BROADCASTING SYSTEM, station:서울 방송, station:에스비에스, type:KOREA NEWS, type:Korean News, type:News, type:News Network, type:뉴스, type:대한민국 뉴스, type:방송, yt:cc=on, 러시아, 발견 즉시 덮어라, 백신, 어린이, 우크라, 접종, 화이자,source:영상, type:디지털, genre:정치, format:기타, series:자막뉴스, 이재명, 윤석열, 우크라이나, 러시아, 침공,MBC, MBC뉴스, 뉴스데스크, newsdesk, 뉴스투데이, newstoday, 8시뉴스, 아침뉴스, 뉴스, 정오뉴스, news, 미국, 러시아, 우크라이나, 젤렌스키,연합뉴스, yonhapnews, 뉴스, 영상, 이슈, 디지털, news, 화제, 머스크, 일론머스크, 테슬라, 우크라이나, 전쟁,연합뉴스, yonhapnews, 뉴스, 영상, 이슈, 디지털, news, 화제, 우크라이나, 러시아, 전쟁, 포로, 러시아군, 군인, 푸틴, source:영상, type:방송, genre:국제, format:기타, person:한연희,format:기타, siries:SBS NEWS, siries:SBS 뉴스, siries:에스비에스 뉴스, station:SBS, station:SEOUL BROADCASTING SYSTEM, station:서울 방송, station:에스비에스, type:KOREA NEWS, type:Korean News, type:News, type:News Network, type:뉴스, type:대한민국 뉴스, type:방송, yt:cc=on, 대통령, 러시아, 바실렌코, 우크라, 의원,러시아, 우크라이나, 푸틴,MBN, 굿모닝 MBN, MBN뉴스, 우크라이나 침공, 러시아, 우크라이나, 키예프, 우크라이나 사망자, 벨라루스, 하르키우, 유럽연합, EU, 피란민, 러시아 우크라이나 회담, 젤렌스키 대통령, 폴란드, 신변 안전, 우크라이나 민간인 사망,연합뉴스, yonhapnews, 뉴스, 영상, 이슈, 디지털, news, 화제, 우크라이나, 러시아, 전쟁, 탱크, 미사일,format:기타, siries:SBS NEWS, siries:SBS 뉴스, siries:에스비에스 뉴스, station:SBS, station:SEOUL BROADCASTING SYSTEM, st'], '러시아': [76056605, 548186, 91234, '군병원, 러 공수부대, 방송국,Article, NATO, Russia, U.S., Ukraine, War, allies, attack, civilian, forces, invasion, involvement, missiles, p_cmsid=2494279, p_vid=news-83186264, targets, troops,러시아군, 진격, 포위전,러시아, 우크라이나, 전쟁,MBC, MBC뉴스, 뉴스데스크, newsdesk, 뉴스투데이, newstoday, 8시뉴스, 아침뉴스, 뉴스, 정오뉴스, news, 전쟁, 러시아, Kyiv, Ukraine, Livecam, Russia, Putin, 우크라이나, 키이우, 하르키우, 루한시크, 크름반도, 드니프로, 체르느히우,source:영상, type:방송, genre:국제, format:기타, person:방병삼,JTBC, JTBC NEWS, 뉴스, 뉴스룸, 손석희, newsroom, sohnsukhee, 제이티비씨, 제이티비씨 뉴스, ㅓ슟, 제이티비시, 제이티비시 뉴스, 안나경, 한민용, 오대영,latest News, Happening Now, CNN, world news, cnni, cnn international, alex marquardt, michael holmes,KBS, KBS 뉴스5, kbs news, kbs 뉴스, kbs뉴스, 교전, 뉴스, 뉴스5, 러시아군, 우크라이나MBC, MBC뉴스, 뉴스데스크, newsdesk, 뉴스투데이, newstoday, 8시뉴스, 아침뉴스, 뉴스, 정오뉴스, news, 우크라이나, 키예프, 전쟁, 러시아, Kyiv, Ukraine, Livecam, Russia, Putin,러시아, 북한, 정부제재,russia ukraine conflict live, ukraine news live, russia ukraine conflict live updates, russia ukraine war live, ukraine russia conflict, russia ukraine war, russian ukraine war news live, english news, wion news, russian ukraine war live updates, russia ukraine live news, ukraine russia live news, wion live, russian ukraine news live update, ukraine russia war, english news live, wion, breaking news live, ukraine, ukraine vs russia, russia, live news, live, ukraine russia, WION,latest News, Happening Now, CNN, world news, cnni, cnn international, alex marquardt, michael holmes,Russia, Ukraine, abc, crisis, day, forces, invasion, kyiv, live, lviv, news, p_cmsid=2494279, p_vid=news-83132923, refugees, sanctions, three, udpate,format:기타, siries:SBS NEWS, siries:SBS 뉴'], '확진': [2485659, 33879, 9804, '자가격리, 3월1일, 자가격리기준, 확진자격리, 확진자가족, 자가격리기준변경, 보건복지부, 질병관리청, 자가격리방법, 자가격리일수, 자가격리 브이로그, 자가격리 지원금, 자가격리 할만한거, 자가격리 확진, 확진자 밀접접촉자, 확진자 가족 자가격리, 확진자가족 자가격리, 확진자가족 음성, 확진자가족검사, 격리일지, 격리일상, 격리실 기준, 희망찬병원 김진균, 희망찬병원 건강검진, 희망찬병원 허일, 털보의사 김진균, 털보의사, 김진균원장, 김진균의사, 털보의사김진균, 희망찬병원털보의사, 코로나19 항원 자가 검사, 코로나19 자가검사키트 사용법, 코로나19 자가검사키트, 보건소 pcr검사, 보건소 신속항원검사, 보건소 공무원, 비온뒤 의학채널, 비온뒤 함익병, 비온뒤 홍혜걸 여에스더, 굿라이프 이경석, 굿라이프 허리, 굿라이프 송영민,empty,MBC, MBC뉴스, 뉴스데스'], '푸틴': [16100214, 137849, 40152, '연합뉴스, yonhapnews, 뉴스, 영상, 이슈, 디지털, news, 화제, 러시아, 우크라이나, 핵, 전쟁,MBC, MBC뉴스, 뉴스데스크, newsdesk, 뉴스투데이, newstoday, 8시뉴스, 아침뉴스, 뉴스, 정오뉴스, news, 러시아, 우크라이나, 푸틴, 회담,source:영상, type:방송, genre:국제, format:기타, person:이동헌,푸틴, 핵위협, 협상개시,source:영상, type:방송, genre:국제, format:인터뷰,source:영상, type:방송, genre:국제, format:중계, person:조수현,format:기타, siries:SBS NEWS, siries:SBS 뉴스, siries:에스비에스 뉴스, station:SBS, station:SEOUL BROADCASTING SYSTEM, station:서울 방송, station:에스비에스, type:KOREA NEWS, type:Korean News, type:News, type:News Network, type:뉴스, type:대한민국 뉴스, type:방송, yt:cc=on, 대통령, 러시아, 미국, 영국, 유럽, 제재, 푸틴,SBS NEWS, SBS뉴스, sbs뉴스, sbs8뉴스, 에스비에스, sbs 뉴스, SBS, 실시간, sbs 실시간, SBS 8뉴스, SBS 8시뉴스, SBSJTBC, JTBC NEWS, 뉴스, 뉴스룸, 손석희, newsroom, sohnsukhee, 제이티비씨, 제이티비씨 뉴스, ㅓ슟, 제이티비시, 제이티비시 뉴스, 안나경, 한민용, 오대영,세상의모든지식, 지식, 정보, 유익, 유튜버, 꿀잼, 브랜드, 백과, 사전, 백과사전, 세모지, 블라디미르, 푸틴, 대통령, 러시아, 독재자, 불곰국, 일인자, 삼보, KGB, 스파이,YTN, 뉴스, 와플뉴스, 와이즈맨,푸틴, 핵위협, 협상개시,SBS Entertainment, SBS, 스브스, Entertainment, 신년특집, 교양, sbs교양, sbsstory, 당신이혹하는사이, 솔깃한식탁, 첫방송, 티저, 윤종신, 장진, 변영주, 봉태규, 송은이, 곽재식, 음모론, 토크쇼, 미제사건, 추리, 실종, 기사, 미스터리, 시나리오, 기묘한이야기, 스토리셀러, 수다, 요약, 당혹사요약, 댄쿠퍼, FBI, 하이재킹, 항공납치, 미해결사건, 피자게이트, 힐러리클린턴, 소아성애자, 피자가게,News Network, SBS SPORTSMUG, SPORTSM'], '산불': [218902, 2363, 465, '28, format:기타, siries:SBS NEWS, siries:SBS 뉴스, siries:에스비에스 뉴스, station:SBS, station:SEOUL BROADCASTING SYSTEM, station:서울 방송, station:에스비에스, type:KOREA NEWS, type:Korean News, type:News, type:News Network, type:뉴스, type:대한민국 뉴스, type:방송, yt:cc=on, 날씨, 산불, 전국, 축구장, 합천,MBN, MBN뉴스, 굿모닝MBN, MBNNEWS, 경남, 합천, 산불, 산불진화,산불, 진화, 합천,건조특보, 추위, 출근길,MBC, MBC뉴스, 뉴스데스크, newsdesk, 뉴스투데이, newstoday, 8시뉴스, 아침뉴스, 뉴스, 정오뉴스, news, 경남, 합천, 산불,format:기타, siries:SBS NEWS, siries:SBS 뉴스, siries:에스비에스 뉴스, station:SBS, station:SEOUL BROADCASTING SYSTEM, station:서울 방송, station:에스비에스, type:KOREA NEWS, type:Korean News, type:News, type:News Network, type:뉴스, type:대한민국 뉴스, type:방송, yt:cc=on, 경남, 경북, 날씨, 대구, 산불, 화재,MBC, MBC뉴스, 뉴스데스크, newsdesk,']}\n"
          ]
        }
      ]
    },
    {
      "cell_type": "code",
      "source": [
        ""
      ],
      "metadata": {
        "id": "CjFwMFFVMnJG"
      },
      "execution_count": null,
      "outputs": []
    }
  ]
}