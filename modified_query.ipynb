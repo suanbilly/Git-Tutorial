{
  "nbformat": 4,
  "nbformat_minor": 0,
  "metadata": {
    "colab": {
      "name": "modified_query.ipynb",
      "provenance": [],
      "collapsed_sections": [],
      "authorship_tag": "ABX9TyO6gxCLavuKFmhevMD7+2F0",
      "include_colab_link": true
    },
    "kernelspec": {
      "name": "python3",
      "display_name": "Python 3"
    },
    "language_info": {
      "name": "python"
    }
  },
  "cells": [
    {
      "cell_type": "markdown",
      "metadata": {
        "id": "view-in-github",
        "colab_type": "text"
      },
      "source": [
        "<a href=\"https://colab.research.google.com/github/zhaocaiQ/Git-Tutorial/blob/master/modified_query.ipynb\" target=\"_parent\"><img src=\"https://colab.research.google.com/assets/colab-badge.svg\" alt=\"Open In Colab\"/></a>"
      ]
    },
    {
      "cell_type": "markdown",
      "source": [
        "##weekly_chart"
      ],
      "metadata": {
        "id": "LyBv6XGVMTC7"
      }
    },
    {
      "cell_type": "code",
      "execution_count": null,
      "metadata": {
        "id": "Rg2_Bov8MSj4"
      },
      "outputs": [],
      "source": [
        "from datetime import datetime\n",
        "date = datetime.today().strftime(\"%Y-%m-%d\")\n",
        "\n",
        "#DB keyword테이블에서 이번주 keyword별 언급량 합계 상위 5개의 keyword 추출\n",
        "cursor.execute(\"SELECT keyword FROM keyword WHERE DATE(c_date) >= ADDDATE(curdate(), - WEEKDAY(curdate())) AND DATE(c_date) <= ADDDATE(curdate(), - WEEKDAY(curdate())+ 6) GROUP BY keyword ORDER BY SUM(weight) DESC LIMIT 5;\")\n",
        "keywords = cursor.fetchall()\n",
        "#이번주(월~일) 날짜 추출\n",
        "cursor.execute(\"WITH RECURSIVE day AS (SELECT ADDDATE(curdate(), - WEEKDAY(curdate())) AS DAY UNION ALL SELECT DATE_ADD(DAY, INTERVAL 1 DAY) FROM day WHERE DAY < ADDDATE(curdate(), - WEEKDAY(curdate())+ 6)) SELECT date_format(DAY, '%Y-%m-%d') FROM day;\")\n",
        "day = cursor.fetchall()\n",
        "\n",
        "#이번주 데이터가 없을 시 지난주 데이터 추출\n",
        "if len(keywords) == 0:\n",
        "  #DB keyword테이블에서 지난주 keyword별 언급량 합계 상위 5개의 keyword 추출\n",
        "  cursor.execute(\"SELECT keyword FROM keyword WHERE DATE(c_date) >= date_format(curdate() - INTERVAL 1 WEEK - WEEKDAY(curdate()), '%Y-%m-%d') AND DATE(c_date) <= date_format(curdate() - INTERVAL 1 WEEK + (6 - WEEKDAY(curdate())), '%Y-%m-%d') GROUP BY keyword ORDER BY SUM(weight) DESC LIMIT 5;\")\n",
        "  keywords = cursor.fetchall()\n",
        "  #지난주(월~일) 날짜 추출\n",
        "  cursor.execute(\"WITH RECURSIVE day AS (SELECT DATE(curdate() - INTERVAL 1 WEEK - WEEKDAY(curdate())) AS DAY UNION ALL SELECT DATE_ADD(DAY, INTERVAL 1 DAY) FROM day WHERE DAY < DATE(curdate() - INTERVAL 1 WEEK + (6 - WEEKDAY(curdate())))) SELECT date_format(DAY, '%Y-%m-%d') FROM day;\")\n",
        "  day = cursor.fetchall()\n",
        "\n",
        "weekly_chart = {}\n",
        "#DB keyword테이블에서 추출한 keywords의 일별 weight 추출\n",
        "for i in range(5):\n",
        "  weight = [0] * 7\n",
        "  no = 0\n",
        "  for d in day:\n",
        "    if d[0] == date:\n",
        "      break\n",
        "    else:\n",
        "      #일별 추출한 keywords의 weight 추출\n",
        "      cursor.execute(f\"SELECT weight FROM keyword WHERE DATE(c_date) = '{d[0]}' AND keyword = '{keywords[i][0]}'\")\n",
        "      daily_weight = list(cursor.fetchall())\n",
        "      if daily_weight != []:\n",
        "        weight[no] = daily_weight[0][0]\n",
        "      no += 1\n",
        "  weekly_chart[keywords[i][0]] = weight\n",
        "print(weekly_chart)"
      ]
    },
    {
      "cell_type": "markdown",
      "source": [
        "##monthly_chart"
      ],
      "metadata": {
        "id": "5umOLmshMcO2"
      }
    },
    {
      "cell_type": "code",
      "source": [
        "from datetime import datetime\n",
        "date = datetime.today().strftime(\"%Y-%m-%d\")\n",
        "\n",
        "#DB keyword테이블에서 이번달 keyword별 언급량 합계 상위 5개의 keyword 추출\n",
        "cursor.execute(\"SELECT keyword FROM keyword WHERE DATE(c_date) >= ADDDATE(curdate(), - WEEKDAY(curdate())) AND DATE(c_date) <= ADDDATE(curdate(), - WEEKDAY(curdate())+ 6) GROUP BY keyword ORDER BY SUM(weight) DESC LIMIT 5;\")\n",
        "keywords = cursor.fetchall()\n",
        "#이번달(1일~말일) 날짜 추출\n",
        "cursor.execute(\"WITH RECURSIVE day AS (SELECT DATE_SUB(curdate(), INTERVAL (DAY(curdate())-1) DAY) AS DAY UNION ALL SELECT DATE_ADD(DAY, INTERVAL 1 DAY) FROM day WHERE DAY < LAST_DAY(NOW()))SELECT date_format(DAY, '%Y-%m-%d') FROM day\")\n",
        "day = cursor.fetchall()\n",
        "\n",
        "#이번달 데이터가 없을 시 지난달 데이터 추출\n",
        "if len(keywords) == 0:\n",
        "  #DB keyword테이블에서 지난달 keyword별 언급량 합계 상위 5개의 keyword 추출\n",
        "  cursor.execute(\"SELECT keyword FROM keyword WHERE DATE(c_date) >= ADDDATE(date_add(curdate(), interval -1 day), - WEEKDAY(date_add(curdate(), interval -1 day))) AND DATE(c_date) <= ADDDATE(date_add(curdate(), interval -1 day), - WEEKDAY(date_add(curdate(), interval -1 day))+ 6) GROUP BY keyword ORDER BY SUM(weight) DESC LIMIT 5;\")\n",
        "  keywords = cursor.fetchall()\n",
        "  #지난달(1일~말일) 날짜 추출\n",
        "  cursor.execute(\"WITH RECURSIVE day AS (SELECT DATE_SUB((curdate() - INTERVAL 1 MONTH), INTERVAL (DAY(curdate())-1) DAY) AS DAY UNION ALL SELECT DATE_ADD(DAY, INTERVAL 1 DAY) FROM day WHERE DAY < LAST_DAY((curdate() - INTERVAL 1 MONTH)))SELECT date_format(DAY, '%Y-%m-%d') FROM day;\")\n",
        "  day = cursor.fetchall()\n",
        "\n",
        "monthly_chart = {}\n",
        "\n",
        "#DB keyword테이블에서 추출한 keywords의 일별 weight 추출\n",
        "for i in range(5):\n",
        "  weight = [0] * int(day[-1][0][-2:])\n",
        "  for d in day:\n",
        "    if d[0] == date:\n",
        "      break\n",
        "    else:\n",
        "      #일별 추출한 keywords의 weight 추출\n",
        "      cursor.execute(f\"SELECT weight FROM keyword WHERE DATE(c_date) = '{d[0]}' AND keyword = '{keywords[i][0]}'\")\n",
        "      daily_weight = list(cursor.fetchall())\n",
        "      if daily_weight != []:\n",
        "        weight[int(d[0][-2:])-1] = daily_weight[0][0]\n",
        "  monthly_chart[keywords[i][0]] = weight\n",
        "print(weekly_chart)"
      ],
      "metadata": {
        "id": "9Juu-l2BMc1_"
      },
      "execution_count": null,
      "outputs": []
    },
    {
      "cell_type": "markdown",
      "source": [
        "##monthly_youtube"
      ],
      "metadata": {
        "id": "dxjAw0Y3MrQH"
      }
    },
    {
      "cell_type": "code",
      "source": [
        "#DB keyword테이블에서 이번달 keyword별 언급량 합계 상위 5개의 keyword 추출\n",
        "cursor.execute(\"SELECT keyword FROM keyword WHERE DATE(c_date) >= DATE_SUB(curdate(), INTERVAL (DAY(curdate())-1) DAY) AND DATE(c_date) <= LAST_DAY(NOW()) GROUP BY keyword ORDER BY SUM(weight) DESC LIMIT 5;\")\n",
        "keywords = list(cursor.fetchall())\n",
        "if len(keywords) != 0:\n",
        "  #DB youtube테이블에서 추출한 keywords의 키워드, 조회수, 좋아요 수, 댓글 수, 해시태그 모두 추출\n",
        "  cursor.execute(\"SELECT keyword_id, CAST(SUM(view_count) AS SIGNED), CAST(SUM(like_count) AS SIGNED), CAST(SUM(comment_count) AS SIGNED), group_concat(tags) FROM youtube  WHERE SUBSTR(keyword_id, 1, 8) >= DATE_SUB(curdate(), INTERVAL (DAY(curdate())-1) DAY) AND SUBSTR(keyword_id, 1, 8) <= LAST_DAY(NOW()) GROUP BY keyword_id ORDER BY COUNT(keyword_id) DESC;\")\n",
        "  youtube = cursor.fetchall()\n",
        "else:\n",
        "  #이번달 정보 없을 시 지난주 정보 출력\n",
        "  cursor.execute(\"SELECT keyword FROM keyword WHERE date_format(c_date, '%Y-%m') = date_format((curdate() - INTERVAL 1 MONTH), '%Y-%m') GROUP BY keyword ORDER BY SUM(weight) DESC LIMIT 5;\")\n",
        "  keywords = list(cursor.fetchall()) \n",
        "  cursor.execute(\"SELECT keyword_id, CAST(SUM(view_count) AS SIGNED), CAST(SUM(like_count) AS SIGNED), CAST(SUM(comment_count) AS SIGNED), group_concat(tags) FROM youtube  WHERE SUBSTR(keyword_id, 1, 5) = date_format((curdate() - INTERVAL 1 MONTH), '%y-%m') GROUP BY keyword_id ORDER BY COUNT(keyword_id) DESC;\")\n",
        "  youtube = cursor.fetchall() \n",
        "\n",
        "#youtube테이블에서 추출한 정보 keyword별로 합치기\n",
        "monthly_youtube = {}\n",
        "for i in keywords:\n",
        "  monthly_youtube[i[0]] = [0, 0, 0, '']\n",
        "no = 1\n",
        "while len(keywords) > 0:\n",
        "    word = keywords.pop(0)\n",
        "    for data in youtube:\n",
        "        if word[0] in data[0]:\n",
        "            monthly_youtube[word[0]][0] += data[1]\n",
        "            monthly_youtube[word[0]][1] += data[2]\n",
        "            monthly_youtube[word[0]][2] += data[3]\n",
        "            monthly_youtube[word[0]][3] += data[4]\n",
        "    no += 1\n",
        "print(monthly_youtube)"
      ],
      "metadata": {
        "id": "ZN_suXovNTCX"
      },
      "execution_count": null,
      "outputs": []
    }
  ]
}