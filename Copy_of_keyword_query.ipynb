{
  "nbformat": 4,
  "nbformat_minor": 0,
  "metadata": {
    "colab": {
      "name": "Copy of keyword_query.ipynb",
      "provenance": [],
      "collapsed_sections": [],
      "toc_visible": true,
      "authorship_tag": "ABX9TyPvURptjqORa7rWIENXqtw/",
      "include_colab_link": true
    },
    "kernelspec": {
      "name": "python3",
      "display_name": "Python 3"
    },
    "language_info": {
      "name": "python"
    }
  },
  "cells": [
    {
      "cell_type": "markdown",
      "metadata": {
        "id": "view-in-github",
        "colab_type": "text"
      },
      "source": [
        "<a href=\"https://colab.research.google.com/github/zhaocaiQ/Git-Tutorial/blob/master/Copy_of_keyword_query.ipynb\" target=\"_parent\"><img src=\"https://colab.research.google.com/assets/colab-badge.svg\" alt=\"Open In Colab\"/></a>"
      ]
    },
    {
      "cell_type": "markdown",
      "source": [
        "#데이터추출 쿼리"
      ],
      "metadata": {
        "id": "bmJVBTX3NMKq"
      }
    },
    {
      "cell_type": "markdown",
      "source": [
        "##pymysql설치"
      ],
      "metadata": {
        "id": "jUvxhnVyNQrS"
      }
    },
    {
      "cell_type": "code",
      "source": [
        "pip install pymysql"
      ],
      "metadata": {
        "colab": {
          "base_uri": "https://localhost:8080/"
        },
        "id": "IKY3qtGeMGFk",
        "outputId": "6a3d7f1e-395e-4721-c4da-90804c5cec90"
      },
      "execution_count": null,
      "outputs": [
        {
          "output_type": "stream",
          "name": "stdout",
          "text": [
            "Collecting pymysql\n",
            "  Downloading PyMySQL-1.0.2-py3-none-any.whl (43 kB)\n",
            "\u001b[?25l\r\u001b[K     |███████▌                        | 10 kB 26.6 MB/s eta 0:00:01\r\u001b[K     |███████████████                 | 20 kB 23.9 MB/s eta 0:00:01\r\u001b[K     |██████████████████████▍         | 30 kB 16.8 MB/s eta 0:00:01\r\u001b[K     |██████████████████████████████  | 40 kB 15.6 MB/s eta 0:00:01\r\u001b[K     |████████████████████████████████| 43 kB 1.8 MB/s \n",
            "\u001b[?25hInstalling collected packages: pymysql\n",
            "Successfully installed pymysql-1.0.2\n"
          ]
        }
      ]
    },
    {
      "cell_type": "code",
      "execution_count": null,
      "metadata": {
        "id": "x1IuMoAJMBdH"
      },
      "outputs": [],
      "source": [
        "import pymysql\n",
        "#데이터베이스 연동\n",
        "conn = pymysql.connect(host='tkt-db-ko.cnirlhwrm55r.ap-northeast-2.rds.amazonaws.com', port=3306, user='admin', password='tkt202202', db='topic_keywords_db', charset='utf8')\n",
        "cursor = conn.cursor()"
      ]
    },
    {
      "cell_type": "code",
      "source": [
        "from datetime import datetime\n",
        "date = datetime.today().strftime(\"%Y-%m-%d\")"
      ],
      "metadata": {
        "id": "yIEhUPf5ONc0"
      },
      "execution_count": null,
      "outputs": []
    },
    {
      "cell_type": "code",
      "source": [
        "print(date)"
      ],
      "metadata": {
        "colab": {
          "base_uri": "https://localhost:8080/"
        },
        "id": "84PDKUy9Uoqq",
        "outputId": "65a7ec15-4e2b-44c6-855b-c6a5f755d628"
      },
      "execution_count": null,
      "outputs": [
        {
          "output_type": "stream",
          "name": "stdout",
          "text": [
            "2022-02-27\n"
          ]
        }
      ]
    },
    {
      "cell_type": "markdown",
      "source": [
        "#TOP_keyword"
      ],
      "metadata": {
        "id": "z6-RaybGreyD"
      }
    },
    {
      "cell_type": "markdown",
      "source": [
        "##daily_top25"
      ],
      "metadata": {
        "id": "XgqhcPuZNjHK"
      }
    },
    {
      "cell_type": "code",
      "source": [
        "cursor.execute(\"SELECT keyword, weight FROM keyword WHERE c_date = date(now()) ORDER BY weight DESC LIMIT 25;\")\n",
        "result = cursor.fetchall()\n",
        "print(result)"
      ],
      "metadata": {
        "colab": {
          "base_uri": "https://localhost:8080/"
        },
        "id": "OzTmJNfUMEwM",
        "outputId": "c73d6e13-71f3-4b48-c1b1-ee4140e8bbf8"
      },
      "execution_count": null,
      "outputs": [
        {
          "output_type": "stream",
          "name": "stdout",
          "text": [
            "()\n"
          ]
        }
      ]
    },
    {
      "cell_type": "markdown",
      "source": [
        "##weekly_top25"
      ],
      "metadata": {
        "id": "CuWWxP7fNsby"
      }
    },
    {
      "cell_type": "code",
      "source": [
        "cursor.execute(\"SELECT keyword, CAST(SUM(weight) AS SIGNED) FROM keyword WHERE DATE(c_date) >= ADDDATE(curdate(), - WEEKDAY(curdate())) AND DATE(c_date) <= ADDDATE(curdate(), - WEEKDAY(curdate())+ 6) GROUP BY keyword ORDER BY SUM(weight) DESC LIMIT 25;\")\n",
        "result = cursor.fetchall()\n",
        "print(result)"
      ],
      "metadata": {
        "colab": {
          "base_uri": "https://localhost:8080/"
        },
        "id": "DyjKoV9oMhLL",
        "outputId": "3534a073-c877-452f-a4f0-f60a372b6699"
      },
      "execution_count": null,
      "outputs": [
        {
          "output_type": "stream",
          "name": "stdout",
          "text": [
            "(('우크라', 28), ('키예프', 24), ('러시아', 18), ('강풍', 14), ('최다', 12), ('푸틴', 11), ('산불', 11), ('방역', 10), ('제재', 9), ('항전', 9), ('역대', 9), ('수도', 9), ('사망자', 9), ('윤석열', 9), ('확진', 9), ('별세', 8), ('대선', 8), ('평화', 7), ('지성', 7), ('대통령', 7), ('시대', 7), ('러시아군', 6), ('장관', 6), ('직접', 6), ('정부', 6))\n"
          ]
        }
      ]
    },
    {
      "cell_type": "markdown",
      "source": [
        "##monthly_top25"
      ],
      "metadata": {
        "id": "QO9wpG-MNvNS"
      }
    },
    {
      "cell_type": "code",
      "source": [
        "cursor.execute(\"SELECT keyword, CAST(SUM(weight) AS SIGNED) FROM keyword WHERE DATE(c_date) >= DATE_SUB(curdate(), INTERVAL (DAY(curdate())-1) DAY) AND DATE(c_date) <= LAST_DAY(NOW()) GROUP BY keyword ORDER BY SUM(weight) DESC LIMIT 25;\")\n",
        "result = cursor.fetchall()\n",
        "print(result)"
      ],
      "metadata": {
        "colab": {
          "base_uri": "https://localhost:8080/"
        },
        "id": "rfQ_hfiAM0tj",
        "outputId": "ce1842f1-2432-4248-d504-bfacfd4db39b"
      },
      "execution_count": null,
      "outputs": [
        {
          "output_type": "stream",
          "name": "stdout",
          "text": [
            "(('우크라', 28), ('키예프', 24), ('러시아', 18), ('강풍', 14), ('최다', 12), ('푸틴', 11), ('산불', 11), ('방역', 10), ('제재', 9), ('항전', 9), ('역대', 9), ('수도', 9), ('사망자', 9), ('윤석열', 9), ('확진', 9), ('별세', 8), ('대선', 8), ('평화', 7), ('지성', 7), ('대통령', 7), ('시대', 7), ('러시아군', 6), ('장관', 6), ('직접', 6), ('정부', 6))\n"
          ]
        }
      ]
    },
    {
      "cell_type": "markdown",
      "source": [
        "#chart_data"
      ],
      "metadata": {
        "id": "UL-IAMbOrW2j"
      }
    },
    {
      "cell_type": "markdown",
      "source": [
        "##daily_chart"
      ],
      "metadata": {
        "id": "wWBnfzXiN7Os"
      }
    },
    {
      "cell_type": "code",
      "source": [
        "#오늘 top1~25출력\n",
        "cursor.execute(\"SELECT keyword, weight FROM keyword WHERE c_date = curdate() ORDER BY weight DESC LIMIT 25;\")\n",
        "today = dict(cursor.fetchall())\n",
        "#전날 top1~25출력\n",
        "cursor.execute(\"SELECT keyword, weight FROM keyword WHERE c_date = date_add(curdate(), interval -1 day) ORDER BY weight DESC LIMIT 25;\")\n",
        "yesterday = dict(cursor.fetchall())\n",
        "daily_chart = []\n",
        "for i in today.keys():\n",
        "    if i in yesterday.keys():\n",
        "        if (today[i] - yesterday[i]) > yesterday[i]:\n",
        "            daily_chart.append([i, today[i], \"up\"])\n",
        "        elif (today[i] - yesterday[i]) == yesterday[i]:\n",
        "            daily_chart.append([i, today[i], \"same\"])\n",
        "        else:\n",
        "            daily_chart.append([i, today[i], \"down\"])\n",
        "    else:\n",
        "        daily_chart.append([i, today[i], \"new\"])\n",
        "\n",
        "dic_data = {\n",
        "    'data': daily_chart\n",
        "}\n",
        "print(dic_data)"
      ],
      "metadata": {
        "colab": {
          "base_uri": "https://localhost:8080/"
        },
        "id": "Sw277WwmN7e7",
        "outputId": "3bf2ec29-c0e4-416f-e67d-cdd29f958b42"
      },
      "execution_count": null,
      "outputs": [
        {
          "output_type": "stream",
          "name": "stdout",
          "text": [
            "{'data': []}\n"
          ]
        }
      ]
    },
    {
      "cell_type": "markdown",
      "source": [
        "##weekly_chart"
      ],
      "metadata": {
        "id": "rNHQVbEKTVes"
      }
    },
    {
      "cell_type": "code",
      "source": [
        "cursor.execute(\"SELECT keyword FROM keyword WHERE DATE(c_date) >= ADDDATE(curdate(), - WEEKDAY(curdate())) AND DATE(c_date) <= ADDDATE(curdate(), - WEEKDAY(curdate())+ 6) GROUP BY keyword ORDER BY SUM(weight) DESC LIMIT 5;\")\n",
        "keywords = cursor.fetchall()\n",
        "weekly_chart = {}\n",
        "for i in range(5):\n",
        "    cursor.execute(f\"SELECT weight FROM keyword WHERE DATE(c_date) >= ADDDATE(curdate(), - WEEKDAY(curdate())) AND DATE(c_date) <= ADDDATE(curdate(), - WEEKDAY(curdate())+ 6) AND keyword = '{keywords[i][0]}' ORDER BY c_date;\")\n",
        "    daily_weight = list(cursor.fetchall())\n",
        "    weekly_chart[keywords[i][0]] = [n[0] for n in daily_weight]\n",
        "\n",
        "dic_data = {\n",
        "    'data': weekly_chart\n",
        "}\n",
        "print(dic_data)"
      ],
      "metadata": {
        "colab": {
          "base_uri": "https://localhost:8080/"
        },
        "id": "OW4EcIebTVlP",
        "outputId": "47b223ac-fcdd-4b59-cfaa-43cd4fe7146d"
      },
      "execution_count": null,
      "outputs": [
        {
          "output_type": "stream",
          "name": "stdout",
          "text": [
            "{'data': {'우크라': [28], '키예프': [24], '러시아': [18], '강풍': [14], '최다': [12]}}\n"
          ]
        }
      ]
    },
    {
      "cell_type": "markdown",
      "source": [
        "##monthly_chart"
      ],
      "metadata": {
        "id": "CFdw4bs5UWpE"
      }
    },
    {
      "cell_type": "code",
      "source": [
        "cursor.execute(\"SELECT keyword FROM keyword WHERE DATE(c_date) >= DATE_SUB(curdate(), INTERVAL (DAY(curdate())-1) DAY) AND DATE(c_date) <= LAST_DAY(NOW()) GROUP BY keyword ORDER BY SUM(weight) DESC LIMIT 5;\")\n",
        "keywords = cursor.fetchall()\n",
        "monthly_chart = {}\n",
        "for i in range(5):\n",
        "    cursor.execute(f\"SELECT weight FROM keyword WHERE DATE(c_date) >= DATE_SUB(curdate(), INTERVAL (DAY(curdate())-1) DAY) AND DATE(c_date) <= LAST_DAY(NOW()) AND keyword = '{keywords[i][0]}' ORDER BY c_date;\")\n",
        "    daily_weight = list(cursor.fetchall())\n",
        "    monthly_chart[keywords[i][0]] = [n[0] for n in daily_weight]\n",
        "\n",
        "dic_data = {\n",
        "    'data': monthly_chart\n",
        "}\n",
        "print(dic_data)"
      ],
      "metadata": {
        "colab": {
          "base_uri": "https://localhost:8080/"
        },
        "id": "ZOcbxvsHUWyr",
        "outputId": "29c2e199-4290-45d4-ba16-d5ae18420695"
      },
      "execution_count": null,
      "outputs": [
        {
          "output_type": "stream",
          "name": "stdout",
          "text": [
            "{'data': {'우크라': [28], '키예프': [24], '러시아': [18], '강풍': [14], '최다': [12]}}\n"
          ]
        }
      ]
    },
    {
      "cell_type": "markdown",
      "source": [
        "#Twitter_data"
      ],
      "metadata": {
        "id": "PO1DKmFprn3s"
      }
    },
    {
      "cell_type": "markdown",
      "source": [
        "##daily_twitter"
      ],
      "metadata": {
        "id": "Qa0OuJE5VXGT"
      }
    },
    {
      "cell_type": "code",
      "source": [
        "cursor.execute(\"SELECT keyword FROM keyword WHERE c_date = date(now()) ORDER BY weight DESC LIMIT 5;\")\n",
        "keywords = list(cursor.fetchall())\n",
        "cursor.execute(\"SELECT keyword_id, CAST(SUM(retweet) AS SIGNED), CAST(SUM(like_count) AS SIGNED), group_concat(DISTINCT(nullif(tags, 'empty'))) FROM twitter WHERE published = curdate() GROUP BY keyword_id ORDER BY COUNT(keyword_id) DESC;\")\n",
        "twitter = cursor.fetchall()\n",
        "\n",
        "daily_twitter = []\n",
        "no = 1\n",
        "while len(keywords) > 0:\n",
        "    word = keywords.pop(0)\n",
        "    for key in twitter:\n",
        "        if word[0] in key[0]:\n",
        "            daily_twitter.append([no, list(key)])\n",
        "    no += 1\n",
        "print(daily_twitter)"
      ],
      "metadata": {
        "colab": {
          "base_uri": "https://localhost:8080/"
        },
        "id": "KCGKcmAvVGQK",
        "outputId": "aa92090e-51cb-49f2-8bbe-1b80fb169b0e"
      },
      "execution_count": null,
      "outputs": [
        {
          "output_type": "stream",
          "name": "stdout",
          "text": [
            "[]\n"
          ]
        }
      ]
    },
    {
      "cell_type": "markdown",
      "source": [
        "##weekly_twitter"
      ],
      "metadata": {
        "id": "FAQZpuifVzuT"
      }
    },
    {
      "cell_type": "code",
      "source": [
        "cursor.execute(\"SELECT keyword FROM keyword WHERE DATE(c_date) >= ADDDATE(curdate(), - WEEKDAY(curdate())) AND DATE(c_date) <= ADDDATE(curdate(), - WEEKDAY(curdate())+ 6) GROUP BY keyword ORDER BY SUM(weight) DESC LIMIT 5;\")\n",
        "keywords = list(cursor.fetchall())\n",
        "cursor.execute(\"SELECT keyword_id, CAST(SUM(retweet) AS SIGNED), CAST(SUM(like_count) AS SIGNED), group_concat(DISTINCT(nullif(tags, 'empty'))) FROM twitter WHERE published >= ADDDATE(curdate(), - WEEKDAY(curdate())) AND published <= ADDDATE(curdate(), - WEEKDAY(curdate())+ 6) GROUP BY keyword_id ORDER BY COUNT(keyword_id) DESC;\")\n",
        "twitter = cursor.fetchall()\n",
        "\n",
        "weekly_twitter = []\n",
        "no = 1\n",
        "while len(keywords) > 0:\n",
        "    word = keywords.pop(0)\n",
        "    for key in twitter:\n",
        "        if word[0] in key[0]:\n",
        "            weekly_twitter.append([no, list(key)])\n",
        "    no += 1\n",
        "print(weekly_twitter)"
      ],
      "metadata": {
        "colab": {
          "base_uri": "https://localhost:8080/"
        },
        "id": "GobhU9hQVz1V",
        "outputId": "87296203-37a6-460c-d205-5b0cd38f8986"
      },
      "execution_count": null,
      "outputs": [
        {
          "output_type": "stream",
          "name": "stdout",
          "text": [
            "[[1, ['22-02-26_우크라', 43346, 43, 'SBS뉴스,우크라이나, 러시아, 정전협상, 평화협상, 회담']], [2, ['22-02-26_키예프', 139563, 6, 'SBS뉴스']], [3, ['22-02-26_러시아', 233142, 150, 'PrayForUkraine,SBS뉴스']], [4, ['22-02-26_강풍', 108341, 22, 'SBS뉴스,날씨, 오늘날씨,뉴스, 최신뉴스,연예,철도기상']], [5, ['22-02-26_최다', 124626, 10, 'rt,남자명품추천, 남자벨트추천, 여자가방추천,남자벨트추천, 샤넬가방, 셀린느가방,명품백, 여성가방, 미니백, 샤넬백,문재인케어, 문재인케어,에스펄몰, 샤넬,임영웅, LimYoungWoong, 임영웅사랑은늘도망가, 임영웅유튜브, 임영웅영웅시대,임영웅, LimYoungWoong, 임영웅유튜브, 임영웅_브평UP,임영웅, limyoungwoong, 임영웅유튜브, 임영웅_음원강자, 임영웅_독보적, 임영웅_뮤빗,임영웅, LimYoungWoong, 임영웅유튜브, 임영웅뮤빗어워즈,트와이스, TWICE,펜디미니바게트, 디올몽테인백']]]\n"
          ]
        }
      ]
    },
    {
      "cell_type": "markdown",
      "source": [
        "##monthly_twitter"
      ],
      "metadata": {
        "id": "oR8S64NAWDEd"
      }
    },
    {
      "cell_type": "code",
      "source": [
        "cursor.execute(\"SELECT keyword FROM keyword WHERE DATE(c_date) >= DATE_SUB(curdate(), INTERVAL (DAY(curdate())-1) DAY) AND DATE(c_date) <= LAST_DAY(NOW()) GROUP BY keyword ORDER BY SUM(weight) DESC LIMIT 5;\")\n",
        "keywords = list(cursor.fetchall())\n",
        "cursor.execute(\"SELECT keyword_id, CAST(SUM(retweet) AS SIGNED), CAST(SUM(like_count) AS SIGNED), group_concat(DISTINCT(nullif(tags, 'empty'))) FROM twitter WHERE published >= DATE_SUB(curdate(), INTERVAL (DAY(curdate())-1) DAY) AND published <= LAST_DAY(NOW()) GROUP BY keyword_id ORDER BY COUNT(keyword_id) DESC;\")\n",
        "twitter = cursor.fetchall()\n",
        "\n",
        "monthly_twitter = []\n",
        "no = 1\n",
        "while len(keywords) > 0:\n",
        "    word = keywords.pop(0)\n",
        "    for key in twitter:\n",
        "        if word[0] in key[0]:\n",
        "            monthly_twitter.append([no, list(key)])\n",
        "    no += 1\n",
        "print(monthly_twitter)"
      ],
      "metadata": {
        "colab": {
          "base_uri": "https://localhost:8080/"
        },
        "id": "0XJGOK-iWDJS",
        "outputId": "f67191f0-3859-46bd-c209-ec41fa270785"
      },
      "execution_count": null,
      "outputs": [
        {
          "output_type": "stream",
          "name": "stdout",
          "text": [
            "[[1, ['22-02-26_우크라', 43346, 43, 'SBS뉴스,우크라이나, 러시아, 정전협상, 평화협상, 회담']], [2, ['22-02-26_키예프', 139563, 6, 'SBS뉴스']], [3, ['22-02-26_러시아', 233142, 150, 'PrayForUkraine,SBS뉴스']], [4, ['22-02-26_강풍', 108341, 22, 'SBS뉴스,날씨, 오늘날씨,뉴스, 최신뉴스,연예,철도기상']], [5, ['22-02-26_최다', 124626, 10, 'rt,남자명품추천, 남자벨트추천, 여자가방추천,남자벨트추천, 샤넬가방, 셀린느가방,명품백, 여성가방, 미니백, 샤넬백,문재인케어, 문재인케어,에스펄몰, 샤넬,임영웅, LimYoungWoong, 임영웅사랑은늘도망가, 임영웅유튜브, 임영웅영웅시대,임영웅, LimYoungWoong, 임영웅유튜브, 임영웅_브평UP,임영웅, limyoungwoong, 임영웅유튜브, 임영웅_음원강자, 임영웅_독보적, 임영웅_뮤빗,임영웅, LimYoungWoong, 임영웅유튜브, 임영웅뮤빗어워즈,트와이스, TWICE,펜디미니바게트, 디올몽테인백']]]\n"
          ]
        }
      ]
    },
    {
      "cell_type": "markdown",
      "source": [
        "#Youtube_data"
      ],
      "metadata": {
        "id": "YK5TihQ8rrz6"
      }
    },
    {
      "cell_type": "markdown",
      "source": [
        "##daily_youtube"
      ],
      "metadata": {
        "id": "fjR8nJPRj8ek"
      }
    },
    {
      "cell_type": "code",
      "source": [
        "cursor.execute(\"SELECT keyword FROM keyword WHERE c_date = date(now()) ORDER BY weight DESC LIMIT 5;\")\n",
        "keywords = list(cursor.fetchall())\n",
        "cursor.execute(\"SELECT keyword_id, CAST(SUM(view_count) AS SIGNED), CAST(SUM(like_count) AS SIGNED), CAST(SUM(comment_count) AS SIGNED), group_concat(tags) FROM youtube WHERE published = curdate() GROUP BY keyword_id ORDER BY COUNT(keyword_id) DESC;\")\n",
        "twitter = cursor.fetchall()\n",
        "\n",
        "daily_youtube = []\n",
        "no = 1\n",
        "while len(keywords) > 0:\n",
        "    word = keywords.pop(0)\n",
        "    for key in twitter:\n",
        "        if word[0] in key[0]:\n",
        "            daily_youtube.append([no, list(key)])\n",
        "    no += 1\n",
        "print(daily_youtube)"
      ],
      "metadata": {
        "colab": {
          "base_uri": "https://localhost:8080/"
        },
        "id": "teFuYj94j8md",
        "outputId": "99eee523-2d5e-400a-8a55-744ebd05f286"
      },
      "execution_count": null,
      "outputs": [
        {
          "output_type": "stream",
          "name": "stdout",
          "text": [
            "[]\n"
          ]
        }
      ]
    },
    {
      "cell_type": "markdown",
      "source": [
        "##weekly_youtube"
      ],
      "metadata": {
        "id": "qrdfxmgokP7L"
      }
    },
    {
      "cell_type": "code",
      "source": [
        "cursor.execute(\"SELECT keyword FROM keyword WHERE DATE(c_date) >= ADDDATE(curdate(), - WEEKDAY(curdate())) AND DATE(c_date) <= ADDDATE(curdate(), - WEEKDAY(curdate())+ 6) ORDER BY weight DESC LIMIT 5;\")\n",
        "keywords = list(cursor.fetchall())\n",
        "cursor.execute(\"SELECT keyword_id, CAST(SUM(view_count) AS SIGNED), CAST(SUM(like_count) AS SIGNED), CAST(SUM(comment_count) AS SIGNED), group_concat(tags) FROM youtube WHERE published >= ADDDATE(curdate(), - WEEKDAY(curdate())) AND published <= ADDDATE(curdate(), - WEEKDAY(curdate())+ 6) GROUP BY keyword_id ORDER BY COUNT(keyword_id) DESC;\")\n",
        "twitter = cursor.fetchall()\n",
        "\n",
        "weekly_youtube = []\n",
        "no = 1\n",
        "while len(keywords) > 0:\n",
        "    word = keywords.pop(0)\n",
        "    for key in twitter:\n",
        "        if word[0] in key[0]:\n",
        "            weekly_youtube.append([no, list(key)])\n",
        "    no += 1\n",
        "print(weekly_youtube)"
      ],
      "metadata": {
        "colab": {
          "base_uri": "https://localhost:8080/"
        },
        "id": "bggp-cP7kQCD",
        "outputId": "8370314b-9255-4b8e-d0fd-297b3cd441c5"
      },
      "execution_count": null,
      "outputs": [
        {
          "output_type": "stream",
          "name": "stdout",
          "text": [
            "[[1, ['22-02-26_우크라', 3986689, 33748, 19193, 'JTBC, JTBC NEWS, 뉴스, 뉴스룸, 손석희, newsroom, sohnsukhee, 제이티비씨, 제이티비씨 뉴스, ㅓ슟, 제이티비시, 제이티비시 뉴스, 안나경, 한민용, 오대영, 러시아, 러시아군, 키예프, 우크라이나 침공, 러시아 침공, 푸틴, 바이든, 젤렌스키, 우크라이나 상황, No War Please, 우크라이나 필사 저항, 경비대, 도시 폭격, 러시아 군함 꺼져라,source:영상, type:방송, genre:국제, format:기타, person:김종균,JTBC, JTBC NEWS, 뉴스, 뉴스룸, 손석희, newsroom, sohnsukhee, 제이티비씨, 제이티비씨 뉴스, ㅓ슟, 제이티비시, 제이티비시 뉴스, 안나경, 한민용, 오대영,연합뉴스, yonhapnews, 뉴스, 영상, 이슈, 디지털, news, 화제, 우크라이나, 전쟁, 러시아,KBS, kbs news, kbs 뉴스, kbs뉴스, 국제, 군사작전, 뉴스, 뉴스_기타, 대통령, 돈바스, 러시아, 사적, 선포, 우크라이나, 움직임, 유지향, 임박, 침공, 푸틴,KBS, 뉴스, KBS뉴스라이']], [2, ['22-02-26_키예프', 14004086, 66218, 14307, 'MBC, MBC뉴스, 뉴스데스크, newsdesk, 뉴스투데이, newstoday, 8시뉴스, 아침뉴스, 뉴스, 정오뉴스, news, 우크라이나, 키예프, 전쟁, 러시아, Kyiv, Ukraine, Livecam, Russia, Putin,source:영상, type:방송, genre:국제, format:기타, person:호준석,연합뉴스, yonhapnews, 뉴스, 영상, 이슈, 디지털, news, 화제, 우크라이나, 러시아, 전쟁,러시아, 우크라, 함락,source:영상, type:방송, genre:국제, format:기타, person:이상순,JTBC, JTBC NEWS, 뉴스, 뉴스룸, 손석희, newsroom, sohnsukhee, 제이티비씨, 제이티비씨 뉴스, ㅓ슟, 제이티비시, 제이티비시 뉴스, 안나경, 한민용, 오대영, 우크라이나, 우크라이나 침공, 러시아, 러시아 우크라이나, 푸틴, 러시아 제재, 바이든, 키예프, 우크라이나 실시간,source:영상, type:방송, genre:국제, format:기타, series:더뉴스클립,연합뉴스, yonhapnews, 뉴스, 영상, 이슈, 디지털, news, 화제,source:영상, type:방송, ']], [3, ['22-02-26_러시아', 17319924, 100898, 20921, 'MBC, MBC뉴스, 뉴스데스크, newsdesk, 뉴스투데이, newstoday, 8시뉴스, 아침뉴스, 뉴스, 정오뉴스, news, 우크라이나, 키예프, 전쟁, 러시아, Kyiv, Ukraine, Livecam, Russia, Putin,KBS, KBS 뉴스, KBS뉴스, NEWS, kbs news, kbs 뉴스, kbs뉴스, 공격, 공습, 국제, 뉴스, 뉴스라인, 단행, 러시아, 류호성, 미사일, 시민, 우크라이나, 전격, 침공, 탈출, 파괴, 행렬,러시아, 우크라이나, 침공, 군기지 무력화, 수도 진입, 미국, 바이든, 푸틴, 전쟁, JTBC, JTBC NEWS, 뉴스, 뉴스룸, 손석희, newsroom, sohnsukhee, 제이티비씨, 제이티비씨 뉴스, ㅓ슟, 제이티비시, 제이티비시 뉴스, 안나경, 한민용, 오대영,JTBC, JTBC NEWS, 뉴스, 뉴스룸, 손석희, newsroom, sohnsukhee, 제이티비씨, 제이티비씨 뉴스, ㅓ슟, 제이티비시, 제이티비시 뉴스, 안나경, 한민용, 오대영,source:영상, type:방송, genre:국제, format:인터뷰, person:강성웅,YTN실시간, YTN, 우크라']], [4, ['22-02-26_강풍', 121877, 1834, 539, '강풍, 문경, 산불,MBC, MBC뉴스, 뉴스데스크, newsdesk, 뉴스투데이, newstoday, 8시뉴스, 아침뉴스, 뉴스, 정오뉴스, news, 날씨, 미세먼지, 강풍,format:기타, siries:SBS NEWS, siries:SBS 뉴스, siries:에스비에스 뉴스, station:SBS, station:SEOUL BROADCASTING SYSTEM, station:서울 방송, station:에스비에스, type:KOREA NEWS, type:Korean News, type:News, type:News Network, type:뉴스, type:대한민국 뉴스, type:방송, yt:cc=on, 날씨, 대전, 부산, 서울,MBC, MBC뉴스, 뉴스데스크, newsdesk, 뉴스투데이, newstoday, 8시뉴스, 아침뉴스, 뉴스, 정오뉴스, news, 날씨, 미세먼지,source:영상, type:방송, genre:날씨, format:중계, person:권혜인,MBC, MBC뉴스, 뉴스데스크, newsdesk, 뉴스투데이, newstoday, 8시뉴스, 아침뉴스, 뉴스, 정오뉴스, news, 날씨, 비, 눈,오늘비와, 이현승, 이서경, 박하명, 최아리, 김가영, 이현승 기상캐스터, 이서경 기상캐스터, 박하명 기상캐스터,']], [5, ['22-02-26_최다', 817750, 7427, 5411, 'source:영상, type:방송, genre:사회, format:리포트, topic:재난, topic:코로나, person:최재민,source:영상, type:방송, genre:사회, format:기타, topic:재난, topic:코로나, person:신현준,MBC, MBC뉴스, 뉴스데스크, newsdesk, 뉴스투데이, newstoday, 8시뉴스, 아침뉴스, 뉴스, 정오뉴스, news, 코로나19, 자영업자, 오미크론,16만 명, format:기타, siries:SBS NEWS, siries:SBS 뉴스, siries:에스비에스 뉴스, station:SBS, station:SEOUL BROADCASTING SYSTEM, station:서울 방송, station:에스비에스, type:KOREA NEWS, type:Korean News, type:News, type:News Network, type:뉴스, type:대한민국 뉴스, type:방송, yt:cc=on, 백신, 신규, 오미크론, 접종, 코로나19, 확진자,source:영상, type:디지털, genre:사회, format:기타, series:자막뉴스,MBC, MBC뉴스, 뉴스데스크, newsdesk, 뉴스투데이, newstoday, 8시뉴스, 아침뉴스, 뉴스, 정오뉴스, news, 코로나19, 확진자, 사망자, 재택치료, 오미크론, ']]]\n"
          ]
        }
      ]
    },
    {
      "cell_type": "markdown",
      "source": [
        "##monthly_youtube"
      ],
      "metadata": {
        "id": "oUdA3kMyqhq1"
      }
    },
    {
      "cell_type": "code",
      "source": [
        "cursor.execute(\"SELECT keyword FROM keyword WHERE DATE(c_date) >= DATE_SUB(curdate(), INTERVAL (DAY(curdate())-1) DAY) AND DATE(c_date) <= LAST_DAY(NOW()) ORDER BY weight DESC LIMIT 5;\")\n",
        "keywords = list(cursor.fetchall())\n",
        "cursor.execute(\"SELECT keyword_id, CAST(SUM(view_count) AS SIGNED), CAST(SUM(like_count) AS SIGNED), CAST(SUM(comment_count) AS SIGNED), group_concat(tags) FROM youtube WHERE published >= DATE_SUB(curdate(), INTERVAL (DAY(curdate())-1) DAY) AND published <= LAST_DAY(NOW()) GROUP BY keyword_id ORDER BY COUNT(keyword_id) DESC;\")\n",
        "twitter = cursor.fetchall()\n",
        "\n",
        "monthly_youtube = []\n",
        "no = 1\n",
        "while len(keywords) > 0:\n",
        "    word = keywords.pop(0)\n",
        "    for key in twitter:\n",
        "        if word[0] in key[0]:\n",
        "            monthly_youtube.append([no, list(key)])\n",
        "    no += 1\n",
        "print(monthly_youtube)"
      ],
      "metadata": {
        "colab": {
          "base_uri": "https://localhost:8080/"
        },
        "id": "nOvGsncnqhwE",
        "outputId": "f9059528-a0e8-448c-db4f-a9d6a8ad4167"
      },
      "execution_count": null,
      "outputs": [
        {
          "output_type": "stream",
          "name": "stdout",
          "text": [
            "[[1, ['22-02-26_우크라', 3986689, 33748, 19193, 'JTBC, JTBC NEWS, 뉴스, 뉴스룸, 손석희, newsroom, sohnsukhee, 제이티비씨, 제이티비씨 뉴스, ㅓ슟, 제이티비시, 제이티비시 뉴스, 안나경, 한민용, 오대영, 러시아, 러시아군, 키예프, 우크라이나 침공, 러시아 침공, 푸틴, 바이든, 젤렌스키, 우크라이나 상황, No War Please, 우크라이나 필사 저항, 경비대, 도시 폭격, 러시아 군함 꺼져라,source:영상, type:방송, genre:국제, format:기타, person:김종균,JTBC, JTBC NEWS, 뉴스, 뉴스룸, 손석희, newsroom, sohnsukhee, 제이티비씨, 제이티비씨 뉴스, ㅓ슟, 제이티비시, 제이티비시 뉴스, 안나경, 한민용, 오대영,연합뉴스, yonhapnews, 뉴스, 영상, 이슈, 디지털, news, 화제, 우크라이나, 전쟁, 러시아,KBS, kbs news, kbs 뉴스, kbs뉴스, 국제, 군사작전, 뉴스, 뉴스_기타, 대통령, 돈바스, 러시아, 사적, 선포, 우크라이나, 움직임, 유지향, 임박, 침공, 푸틴,KBS, 뉴스, KBS뉴스라이']], [2, ['22-02-26_키예프', 14004086, 66218, 14307, 'MBC, MBC뉴스, 뉴스데스크, newsdesk, 뉴스투데이, newstoday, 8시뉴스, 아침뉴스, 뉴스, 정오뉴스, news, 우크라이나, 키예프, 전쟁, 러시아, Kyiv, Ukraine, Livecam, Russia, Putin,source:영상, type:방송, genre:국제, format:기타, person:호준석,연합뉴스, yonhapnews, 뉴스, 영상, 이슈, 디지털, news, 화제, 우크라이나, 러시아, 전쟁,러시아, 우크라, 함락,source:영상, type:방송, genre:국제, format:기타, person:이상순,JTBC, JTBC NEWS, 뉴스, 뉴스룸, 손석희, newsroom, sohnsukhee, 제이티비씨, 제이티비씨 뉴스, ㅓ슟, 제이티비시, 제이티비시 뉴스, 안나경, 한민용, 오대영, 우크라이나, 우크라이나 침공, 러시아, 러시아 우크라이나, 푸틴, 러시아 제재, 바이든, 키예프, 우크라이나 실시간,source:영상, type:방송, genre:국제, format:기타, series:더뉴스클립,연합뉴스, yonhapnews, 뉴스, 영상, 이슈, 디지털, news, 화제,source:영상, type:방송, ']], [3, ['22-02-26_러시아', 18022533, 116279, 21883, 'MBC, MBC뉴스, 뉴스데스크, newsdesk, 뉴스투데이, newstoday, 8시뉴스, 아침뉴스, 뉴스, 정오뉴스, news, 우크라이나, 키예프, 전쟁, 러시아, Kyiv, Ukraine, Livecam, Russia, Putin,KBS, KBS 뉴스, KBS뉴스, NEWS, kbs news, kbs 뉴스, kbs뉴스, 공격, 공습, 국제, 뉴스, 뉴스라인, 단행, 러시아, 류호성, 미사일, 시민, 우크라이나, 전격, 침공, 탈출, 파괴, 행렬,러시아, 우크라이나, 침공, 군기지 무력화, 수도 진입, 미국, 바이든, 푸틴, 전쟁, JTBC, JTBC NEWS, 뉴스, 뉴스룸, 손석희, newsroom, sohnsukhee, 제이티비씨, 제이티비씨 뉴스, ㅓ슟, 제이티비시, 제이티비시 뉴스, 안나경, 한민용, 오대영,JTBC, JTBC NEWS, 뉴스, 뉴스룸, 손석희, newsroom, sohnsukhee, 제이티비씨, 제이티비씨 뉴스, ㅓ슟, 제이티비시, 제이티비시 뉴스, 안나경, 한민용, 오대영,source:영상, type:방송, genre:국제, format:인터뷰, person:강성웅,황현필, 한국사, 역사, ']], [4, ['22-02-26_강풍', 998348, 6151, 1190, 'MBC, MBC뉴스, 뉴스데스크, newsdesk, 뉴스투데이, newstoday, 8시뉴스, 아침뉴스, 뉴스, 정오뉴스, news, 영국, 미국, 폭풍, 자연재해, 추돌사고,강풍, 문경, 산불,MBC, MBC뉴스, 뉴스데스크, newsdesk, 뉴스투데이, newstoday, 8시뉴스, 아침뉴스, 뉴스, 정오뉴스, news, 날씨, 미세먼지, 강풍,format:기타, siries:SBS NEWS, siries:SBS 뉴스, siries:에스비에스 뉴스, station:SBS, station:SEOUL BROADCASTING SYSTEM, station:서울 방송, station:에스비에스, type:KOREA NEWS, type:Korean News, type:News, type:News Network, type:뉴스, type:대한민국 뉴스, type:방송, yt:cc=on, 날씨, 대전, 부산, 서울,MBC, MBC뉴스, 뉴스데스크, newsdesk, 뉴스투데이, newstoday, 8시뉴스, 아침뉴스, 뉴스, 정오뉴스, news, 날씨, 미세먼지,source:영상, type:방송, genre:날씨, format:중계, person:권혜인,MBC, MBC뉴스, 뉴스데스크, newsdesk, 뉴스투데이, newstoday, 8시뉴스, 아침뉴스, 뉴스, 정오뉴']], [5, ['22-02-26_최다', 1246844, 12935, 6112, 'source:영상, type:방송, genre:사회, format:리포트, topic:재난, topic:코로나, person:최재민,source:영상, type:방송, genre:사회, format:기타, topic:재난, topic:코로나, person:신현준,MBC, MBC뉴스, 뉴스데스크, newsdesk, 뉴스투데이, newstoday, 8시뉴스, 아침뉴스, 뉴스, 정오뉴스, news, 코로나19, 자영업자, 오미크론,16만 명, format:기타, siries:SBS NEWS, siries:SBS 뉴스, siries:에스비에스 뉴스, station:SBS, station:SEOUL BROADCASTING SYSTEM, station:서울 방송, station:에스비에스, type:KOREA NEWS, type:Korean News, type:News, type:News Network, type:뉴스, type:대한민국 뉴스, type:방송, yt:cc=on, 백신, 신규, 오미크론, 접종, 코로나19, 확진자,source:영상, type:디지털, genre:사회, format:기타, series:자막뉴스,MBC, MBC뉴스, 뉴스데스크, newsdesk, 뉴스투데이, newstoday, 8시뉴스, 아침뉴스, 뉴스, 정오뉴스, news, 코로나19, 확진자, 사망자, 재택치료, 오미크론, ']]]\n"
          ]
        }
      ]
    }
  ]
}